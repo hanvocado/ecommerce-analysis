{
 "cells": [
  {
   "cell_type": "markdown",
   "id": "db80a815",
   "metadata": {},
   "source": [
    "## Xây dựng mô hình đề xuất sản phẩm bằng Collaborative Filtering"
   ]
  },
  {
   "cell_type": "markdown",
   "id": "401f1941",
   "metadata": {},
   "source": [
    "#### Chuẩn bị dữ liệu tương tác"
   ]
  },
  {
   "cell_type": "code",
   "execution_count": 4,
   "id": "5c223f26",
   "metadata": {},
   "outputs": [],
   "source": [
    "import pandas as pd"
   ]
  },
  {
   "cell_type": "code",
   "execution_count": 5,
   "id": "1253a3b4",
   "metadata": {},
   "outputs": [
    {
     "name": "stderr",
     "output_type": "stream",
     "text": [
      "C:\\Users\\ntnh\\AppData\\Local\\Temp\\ipykernel_21196\\3165677319.py:1: DtypeWarning: Columns (19) have mixed types. Specify dtype option on import or set low_memory=False.\n",
      "  df = pd.read_csv('data/events_processed.csv')\n"
     ]
    }
   ],
   "source": [
    "df = pd.read_csv('data/events_processed.csv')"
   ]
  },
  {
   "cell_type": "code",
   "execution_count": 3,
   "id": "5cafbf78",
   "metadata": {},
   "outputs": [
    {
     "name": "stdout",
     "output_type": "stream",
     "text": [
      "<class 'pandas.core.frame.DataFrame'>\n",
      "RangeIndex: 884964 entries, 0 to 884963\n",
      "Data columns (total 20 columns):\n",
      " #   Column                Non-Null Count   Dtype  \n",
      "---  ------                --------------   -----  \n",
      " 0   event_time            884964 non-null  object \n",
      " 1   event_type            884964 non-null  object \n",
      " 2   product_id            884964 non-null  int64  \n",
      " 3   category_id           884964 non-null  int64  \n",
      " 4   category_code         884964 non-null  object \n",
      " 5   brand                 884964 non-null  object \n",
      " 6   price                 884964 non-null  float64\n",
      " 7   user_id               884964 non-null  int64  \n",
      " 8   user_session          884964 non-null  object \n",
      " 9   year                  884964 non-null  int64  \n",
      " 10  month                 884964 non-null  int64  \n",
      " 11  day                   884964 non-null  int64  \n",
      " 12  quarter               884964 non-null  int64  \n",
      " 13  week                  884964 non-null  int64  \n",
      " 14  weekday               884964 non-null  int64  \n",
      " 15  dayofyear             884964 non-null  int64  \n",
      " 16  category              884964 non-null  object \n",
      " 17  sub_category          884964 non-null  object \n",
      " 18  sub_sub_category      884964 non-null  object \n",
      " 19  sub_sub_sub_category  884964 non-null  object \n",
      "dtypes: float64(1), int64(10), object(9)\n",
      "memory usage: 135.0+ MB\n"
     ]
    }
   ],
   "source": [
    "df.info()"
   ]
  },
  {
   "cell_type": "code",
   "execution_count": 5,
   "id": "d1bfbdcc",
   "metadata": {},
   "outputs": [],
   "source": [
    "df['event_time'] = pd.to_datetime(df['event_time'])"
   ]
  },
  {
   "cell_type": "code",
   "execution_count": null,
   "id": "6b9ae412",
   "metadata": {},
   "outputs": [
    {
     "data": {
      "text/html": [
       "<div>\n",
       "<style scoped>\n",
       "    .dataframe tbody tr th:only-of-type {\n",
       "        vertical-align: middle;\n",
       "    }\n",
       "\n",
       "    .dataframe tbody tr th {\n",
       "        vertical-align: top;\n",
       "    }\n",
       "\n",
       "    .dataframe thead th {\n",
       "        text-align: right;\n",
       "    }\n",
       "</style>\n",
       "<table border=\"1\" class=\"dataframe\">\n",
       "  <thead>\n",
       "    <tr style=\"text-align: right;\">\n",
       "      <th></th>\n",
       "      <th>user_id</th>\n",
       "      <th>product_id</th>\n",
       "      <th>event_strength</th>\n",
       "    </tr>\n",
       "  </thead>\n",
       "  <tbody>\n",
       "    <tr>\n",
       "      <th>0</th>\n",
       "      <td>1515915625353226922</td>\n",
       "      <td>4101974</td>\n",
       "      <td>1</td>\n",
       "    </tr>\n",
       "    <tr>\n",
       "      <th>1</th>\n",
       "      <td>1515915625353230067</td>\n",
       "      <td>3506650</td>\n",
       "      <td>1</td>\n",
       "    </tr>\n",
       "    <tr>\n",
       "      <th>2</th>\n",
       "      <td>1515915625353230683</td>\n",
       "      <td>124883</td>\n",
       "      <td>1</td>\n",
       "    </tr>\n",
       "    <tr>\n",
       "      <th>3</th>\n",
       "      <td>1515915625353230683</td>\n",
       "      <td>125325</td>\n",
       "      <td>1</td>\n",
       "    </tr>\n",
       "    <tr>\n",
       "      <th>4</th>\n",
       "      <td>1515915625353230683</td>\n",
       "      <td>254763</td>\n",
       "      <td>4</td>\n",
       "    </tr>\n",
       "    <tr>\n",
       "      <th>...</th>\n",
       "      <td>...</td>\n",
       "      <td>...</td>\n",
       "      <td>...</td>\n",
       "    </tr>\n",
       "    <tr>\n",
       "      <th>556632</th>\n",
       "      <td>1515915625611023671</td>\n",
       "      <td>3829355</td>\n",
       "      <td>1</td>\n",
       "    </tr>\n",
       "    <tr>\n",
       "      <th>556633</th>\n",
       "      <td>1515915625611023730</td>\n",
       "      <td>953226</td>\n",
       "      <td>1</td>\n",
       "    </tr>\n",
       "    <tr>\n",
       "      <th>556634</th>\n",
       "      <td>1515915625611024014</td>\n",
       "      <td>1715907</td>\n",
       "      <td>1</td>\n",
       "    </tr>\n",
       "    <tr>\n",
       "      <th>556635</th>\n",
       "      <td>1515915625611024020</td>\n",
       "      <td>4170534</td>\n",
       "      <td>1</td>\n",
       "    </tr>\n",
       "    <tr>\n",
       "      <th>556636</th>\n",
       "      <td>1515915625611024030</td>\n",
       "      <td>888273</td>\n",
       "      <td>1</td>\n",
       "    </tr>\n",
       "  </tbody>\n",
       "</table>\n",
       "<p>556637 rows × 3 columns</p>\n",
       "</div>"
      ],
      "text/plain": [
       "                    user_id  product_id  event_strength\n",
       "0       1515915625353226922     4101974               1\n",
       "1       1515915625353230067     3506650               1\n",
       "2       1515915625353230683      124883               1\n",
       "3       1515915625353230683      125325               1\n",
       "4       1515915625353230683      254763               4\n",
       "...                     ...         ...             ...\n",
       "556632  1515915625611023671     3829355               1\n",
       "556633  1515915625611023730      953226               1\n",
       "556634  1515915625611024014     1715907               1\n",
       "556635  1515915625611024020     4170534               1\n",
       "556636  1515915625611024030      888273               1\n",
       "\n",
       "[556637 rows x 3 columns]"
      ]
     },
     "execution_count": 16,
     "metadata": {},
     "output_type": "execute_result"
    }
   ],
   "source": [
    "interaction_weights = {\n",
    "    'view': 1,\n",
    "    'cart': 3,\n",
    "    'purchase': 5\n",
    "}\n",
    "\n",
    "df['event_strength'] = df['event_type'].map(interaction_weights)\n",
    "\n",
    "interaction_df = df.groupby(['user_id', 'product_id'])['event_strength'].sum().reset_index()\n",
    "interaction_df"
   ]
  },
  {
   "cell_type": "markdown",
   "id": "440ce2e4",
   "metadata": {},
   "source": [
    "#### Xây dựng ma trận thưa user-product"
   ]
  },
  {
   "cell_type": "code",
   "execution_count": 23,
   "id": "11825a0a",
   "metadata": {},
   "outputs": [],
   "source": [
    "from scipy.sparse import coo_matrix\n",
    "\n",
    "# Ánh xạ user và product sang chỉ số\n",
    "user_map = {user_id: idx for idx, user_id in enumerate(interaction_df['user_id'].unique())}\n",
    "product_map = {product_id: idx for idx, product_id in enumerate(interaction_df['product_id'].unique())}\n",
    "\n",
    "# Tạo ánh xạ ngược để giải mã sau này\n",
    "user_map_rev = {idx: user_id for user_id, idx in user_map.items()}\n",
    "product_map_rev = {idx: product_id for product_id, idx in product_map.items()}\n",
    "\n",
    "# Map user_id and product_id to matrix indices\n",
    "interaction_df['user_idx'] = interaction_df['user_id'].map(user_map)\n",
    "interaction_df['product_idx'] = interaction_df['product_id'].map(product_map)\n",
    "\n",
    "# Build sparse matrix\n",
    "matrix = coo_matrix((\n",
    "    interaction_df['event_strength'], \n",
    "    (interaction_df['user_idx'], interaction_df['product_idx'])\n",
    "))"
   ]
  },
  {
   "cell_type": "markdown",
   "id": "aa9a73e3",
   "metadata": {},
   "source": [
    "#### Huấn luyện ALS model"
   ]
  },
  {
   "cell_type": "code",
   "execution_count": 31,
   "id": "3dc4babc",
   "metadata": {},
   "outputs": [
    {
     "data": {
      "application/vnd.jupyter.widget-view+json": {
       "model_id": "6998b7024a0347b994ca6a31c360552a",
       "version_major": 2,
       "version_minor": 0
      },
      "text/plain": [
       "  0%|          | 0/20 [00:00<?, ?it/s]"
      ]
     },
     "metadata": {},
     "output_type": "display_data"
    }
   ],
   "source": [
    "from implicit.als import AlternatingLeastSquares\n",
    "\n",
    "user_items = matrix.tocsr()\n",
    "model = AlternatingLeastSquares(factors=50, regularization=0.1, iterations=20)\n",
    "model.fit(user_items)"
   ]
  },
  {
   "cell_type": "markdown",
   "id": "97a1b834",
   "metadata": {},
   "source": [
    "#### Đề xuất 5 sản phẩm cho một người dùng"
   ]
  },
  {
   "cell_type": "code",
   "execution_count": 47,
   "id": "189cfb27",
   "metadata": {},
   "outputs": [
    {
     "name": "stdout",
     "output_type": "stream",
     "text": [
      "Top 5 sản phẩm gợi ý cho user 1515915625519388267: [1255165, 3537321, 564832, 677289, 886914]\n"
     ]
    }
   ],
   "source": [
    "user_id = 1515915625519388267\n",
    "user_internal_id = user_map[user_id]\n",
    "product_idxs, scores = model.recommend(user_internal_id, user_items[user_internal_id], N=5)\n",
    "decoded_recommended = [product_map_rev[i] for i in product_idxs]\n",
    "print(f\"Top 5 sản phẩm gợi ý cho user {user_id}:\", decoded_recommended)"
   ]
  }
 ],
 "metadata": {
  "kernelspec": {
   "display_name": "Python 3",
   "language": "python",
   "name": "python3"
  },
  "language_info": {
   "codemirror_mode": {
    "name": "ipython",
    "version": 3
   },
   "file_extension": ".py",
   "mimetype": "text/x-python",
   "name": "python",
   "nbconvert_exporter": "python",
   "pygments_lexer": "ipython3",
   "version": "3.11.3"
  }
 },
 "nbformat": 4,
 "nbformat_minor": 5
}
