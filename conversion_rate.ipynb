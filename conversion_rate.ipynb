{
 "cells": [
  {
   "cell_type": "code",
   "execution_count": 45,
   "id": "3af35a17",
   "metadata": {},
   "outputs": [],
   "source": [
    "import pandas as pd\n",
    "import matplotlib.pyplot as plt"
   ]
  },
  {
   "cell_type": "code",
   "execution_count": null,
   "id": "138fa694",
   "metadata": {},
   "outputs": [
    {
     "name": "stderr",
     "output_type": "stream",
     "text": [
      "C:\\Users\\ntnh\\AppData\\Local\\Temp\\ipykernel_17364\\2150803101.py:1: DtypeWarning: Columns (19) have mixed types. Specify dtype option on import or set low_memory=False.\n",
      "  data = pd.read_csv('events_processed.csv')\n"
     ]
    },
    {
     "data": {
      "text/html": [
       "<div>\n",
       "<style scoped>\n",
       "    .dataframe tbody tr th:only-of-type {\n",
       "        vertical-align: middle;\n",
       "    }\n",
       "\n",
       "    .dataframe tbody tr th {\n",
       "        vertical-align: top;\n",
       "    }\n",
       "\n",
       "    .dataframe thead th {\n",
       "        text-align: right;\n",
       "    }\n",
       "</style>\n",
       "<table border=\"1\" class=\"dataframe\">\n",
       "  <thead>\n",
       "    <tr style=\"text-align: right;\">\n",
       "      <th></th>\n",
       "      <th>event_time</th>\n",
       "      <th>event_type</th>\n",
       "      <th>product_id</th>\n",
       "      <th>category_id</th>\n",
       "      <th>category_code</th>\n",
       "      <th>brand</th>\n",
       "      <th>price</th>\n",
       "      <th>user_id</th>\n",
       "      <th>user_session</th>\n",
       "      <th>year</th>\n",
       "      <th>month</th>\n",
       "      <th>day</th>\n",
       "      <th>quarter</th>\n",
       "      <th>week</th>\n",
       "      <th>weekday</th>\n",
       "      <th>dayofyear</th>\n",
       "      <th>category</th>\n",
       "      <th>sub_category</th>\n",
       "      <th>sub_sub_category</th>\n",
       "      <th>sub_sub_sub_category</th>\n",
       "    </tr>\n",
       "  </thead>\n",
       "  <tbody>\n",
       "    <tr>\n",
       "      <th>0</th>\n",
       "      <td>2020-09-24 11:57:06+00:00</td>\n",
       "      <td>view</td>\n",
       "      <td>1996170</td>\n",
       "      <td>2144415922528452715</td>\n",
       "      <td>electronics.telephone</td>\n",
       "      <td>unknown</td>\n",
       "      <td>31.90</td>\n",
       "      <td>1515915625519388267</td>\n",
       "      <td>LJuJVLEjPT</td>\n",
       "      <td>2020</td>\n",
       "      <td>9</td>\n",
       "      <td>24</td>\n",
       "      <td>3</td>\n",
       "      <td>39</td>\n",
       "      <td>3</td>\n",
       "      <td>268</td>\n",
       "      <td>electronics</td>\n",
       "      <td>telephone</td>\n",
       "      <td>0</td>\n",
       "      <td>0</td>\n",
       "    </tr>\n",
       "    <tr>\n",
       "      <th>1</th>\n",
       "      <td>2020-09-24 11:57:26+00:00</td>\n",
       "      <td>view</td>\n",
       "      <td>139905</td>\n",
       "      <td>2144415926932472027</td>\n",
       "      <td>computers.components.cooler</td>\n",
       "      <td>zalman</td>\n",
       "      <td>17.16</td>\n",
       "      <td>1515915625519380411</td>\n",
       "      <td>tdicluNnRY</td>\n",
       "      <td>2020</td>\n",
       "      <td>9</td>\n",
       "      <td>24</td>\n",
       "      <td>3</td>\n",
       "      <td>39</td>\n",
       "      <td>3</td>\n",
       "      <td>268</td>\n",
       "      <td>computers</td>\n",
       "      <td>components</td>\n",
       "      <td>cooler</td>\n",
       "      <td>0</td>\n",
       "    </tr>\n",
       "    <tr>\n",
       "      <th>2</th>\n",
       "      <td>2020-09-24 11:57:27+00:00</td>\n",
       "      <td>view</td>\n",
       "      <td>215454</td>\n",
       "      <td>2144415927158964449</td>\n",
       "      <td>unknown</td>\n",
       "      <td>unknown</td>\n",
       "      <td>9.81</td>\n",
       "      <td>1515915625513238515</td>\n",
       "      <td>4TMArHtXQy</td>\n",
       "      <td>2020</td>\n",
       "      <td>9</td>\n",
       "      <td>24</td>\n",
       "      <td>3</td>\n",
       "      <td>39</td>\n",
       "      <td>3</td>\n",
       "      <td>268</td>\n",
       "      <td>unknown</td>\n",
       "      <td>0</td>\n",
       "      <td>0</td>\n",
       "      <td>0</td>\n",
       "    </tr>\n",
       "    <tr>\n",
       "      <th>3</th>\n",
       "      <td>2020-09-24 11:57:33+00:00</td>\n",
       "      <td>view</td>\n",
       "      <td>635807</td>\n",
       "      <td>2144415923107266682</td>\n",
       "      <td>computers.peripherals.printer</td>\n",
       "      <td>pantum</td>\n",
       "      <td>113.81</td>\n",
       "      <td>1515915625519014356</td>\n",
       "      <td>aGFYrNgC08</td>\n",
       "      <td>2020</td>\n",
       "      <td>9</td>\n",
       "      <td>24</td>\n",
       "      <td>3</td>\n",
       "      <td>39</td>\n",
       "      <td>3</td>\n",
       "      <td>268</td>\n",
       "      <td>computers</td>\n",
       "      <td>peripherals</td>\n",
       "      <td>printer</td>\n",
       "      <td>0</td>\n",
       "    </tr>\n",
       "    <tr>\n",
       "      <th>4</th>\n",
       "      <td>2020-09-24 11:57:36+00:00</td>\n",
       "      <td>view</td>\n",
       "      <td>3658723</td>\n",
       "      <td>2144415921169498184</td>\n",
       "      <td>unknown</td>\n",
       "      <td>cameronsino</td>\n",
       "      <td>15.87</td>\n",
       "      <td>1515915625510743344</td>\n",
       "      <td>aa4mmk0kwQ</td>\n",
       "      <td>2020</td>\n",
       "      <td>9</td>\n",
       "      <td>24</td>\n",
       "      <td>3</td>\n",
       "      <td>39</td>\n",
       "      <td>3</td>\n",
       "      <td>268</td>\n",
       "      <td>unknown</td>\n",
       "      <td>0</td>\n",
       "      <td>0</td>\n",
       "      <td>0</td>\n",
       "    </tr>\n",
       "  </tbody>\n",
       "</table>\n",
       "</div>"
      ],
      "text/plain": [
       "                  event_time event_type  product_id          category_id  \\\n",
       "0  2020-09-24 11:57:06+00:00       view     1996170  2144415922528452715   \n",
       "1  2020-09-24 11:57:26+00:00       view      139905  2144415926932472027   \n",
       "2  2020-09-24 11:57:27+00:00       view      215454  2144415927158964449   \n",
       "3  2020-09-24 11:57:33+00:00       view      635807  2144415923107266682   \n",
       "4  2020-09-24 11:57:36+00:00       view     3658723  2144415921169498184   \n",
       "\n",
       "                   category_code        brand   price              user_id  \\\n",
       "0          electronics.telephone      unknown   31.90  1515915625519388267   \n",
       "1    computers.components.cooler       zalman   17.16  1515915625519380411   \n",
       "2                        unknown      unknown    9.81  1515915625513238515   \n",
       "3  computers.peripherals.printer       pantum  113.81  1515915625519014356   \n",
       "4                        unknown  cameronsino   15.87  1515915625510743344   \n",
       "\n",
       "  user_session  year  month  day  quarter  week  weekday  dayofyear  \\\n",
       "0   LJuJVLEjPT  2020      9   24        3    39        3        268   \n",
       "1   tdicluNnRY  2020      9   24        3    39        3        268   \n",
       "2   4TMArHtXQy  2020      9   24        3    39        3        268   \n",
       "3   aGFYrNgC08  2020      9   24        3    39        3        268   \n",
       "4   aa4mmk0kwQ  2020      9   24        3    39        3        268   \n",
       "\n",
       "      category sub_category sub_sub_category sub_sub_sub_category  \n",
       "0  electronics    telephone                0                    0  \n",
       "1    computers   components           cooler                    0  \n",
       "2      unknown            0                0                    0  \n",
       "3    computers  peripherals          printer                    0  \n",
       "4      unknown            0                0                    0  "
      ]
     },
     "execution_count": 46,
     "metadata": {},
     "output_type": "execute_result"
    }
   ],
   "source": [
    "data = pd.read_csv('data/events_processed.csv')\n",
    "data.head()"
   ]
  },
  {
   "cell_type": "code",
   "execution_count": 47,
   "id": "e827f8e0",
   "metadata": {},
   "outputs": [
    {
     "name": "stdout",
     "output_type": "stream",
     "text": [
      "<class 'pandas.core.frame.DataFrame'>\n",
      "RangeIndex: 884964 entries, 0 to 884963\n",
      "Data columns (total 20 columns):\n",
      " #   Column                Non-Null Count   Dtype              \n",
      "---  ------                --------------   -----              \n",
      " 0   event_time            884964 non-null  datetime64[ns, UTC]\n",
      " 1   event_type            884964 non-null  object             \n",
      " 2   product_id            884964 non-null  int64              \n",
      " 3   category_id           884964 non-null  int64              \n",
      " 4   category_code         884964 non-null  object             \n",
      " 5   brand                 884964 non-null  object             \n",
      " 6   price                 884964 non-null  float64            \n",
      " 7   user_id               884964 non-null  int64              \n",
      " 8   user_session          884964 non-null  object             \n",
      " 9   year                  884964 non-null  int64              \n",
      " 10  month                 884964 non-null  int64              \n",
      " 11  day                   884964 non-null  int64              \n",
      " 12  quarter               884964 non-null  int64              \n",
      " 13  week                  884964 non-null  int64              \n",
      " 14  weekday               884964 non-null  int64              \n",
      " 15  dayofyear             884964 non-null  int64              \n",
      " 16  category              884964 non-null  object             \n",
      " 17  sub_category          884964 non-null  object             \n",
      " 18  sub_sub_category      884964 non-null  object             \n",
      " 19  sub_sub_sub_category  884964 non-null  object             \n",
      "dtypes: datetime64[ns, UTC](1), float64(1), int64(10), object(8)\n",
      "memory usage: 135.0+ MB\n"
     ]
    }
   ],
   "source": [
    "data['event_time'] = pd.to_datetime(data['event_time'])\n",
    "\n",
    "data.info()"
   ]
  },
  {
   "cell_type": "markdown",
   "id": "1757387d",
   "metadata": {},
   "source": [
    "## Phân tích conversion rate (tỷ lệ chuyển đổi)"
   ]
  },
  {
   "cell_type": "markdown",
   "id": "c3cd3f51",
   "metadata": {},
   "source": [
    "### Tỉ lệ chuyển đổi tổng thể từ view sang purchase"
   ]
  },
  {
   "cell_type": "code",
   "execution_count": 48,
   "id": "fc814bfc",
   "metadata": {},
   "outputs": [
    {
     "name": "stdout",
     "output_type": "stream",
     "text": [
      "Tỷ lệ chuyển đổi tổng thể: 4.71 %\n"
     ]
    }
   ],
   "source": [
    "def calc_conversion_rate(df):\n",
    "    views = df[df['event_type'] == 'view']\n",
    "    purchases = df[df['event_type'] == 'purchase']\n",
    "    return (len(purchases) / len(views) * 100) if len(views) > 0 else 0\n",
    "\n",
    "conversion_rate_overall = calc_conversion_rate(data)\n",
    "print(f\"Tỷ lệ chuyển đổi tổng thể: {conversion_rate_overall:.2f} %\")"
   ]
  },
  {
   "cell_type": "markdown",
   "id": "50001115",
   "metadata": {},
   "source": [
    "Tỷ lệ chuyển đổi tổng thể `4.71%` là `khá tốt`. Với ngành `thương mại điện tử`, conversion rate trung bình thường rơi vào khoảng `2%–3%`. Con số 4.71% thể hiện hiệu quả tương đối cao trong việc chuyển đổi từ người xem thành người mua hàng.\n",
    "\n",
    "Đây là dấu hiệu tích cực cho thấy `hiệu quả` của UX/UI, quảng cáo hoặc chất lượng sản phẩm."
   ]
  },
  {
   "cell_type": "markdown",
   "id": "c5fdb76c",
   "metadata": {},
   "source": [
    "### Conversion rate thay đổi như thế nào theo thời gian"
   ]
  },
  {
   "cell_type": "code",
   "execution_count": 49,
   "id": "930d8a60",
   "metadata": {},
   "outputs": [
    {
     "name": "stderr",
     "output_type": "stream",
     "text": [
      "C:\\Users\\ntnh\\AppData\\Local\\Temp\\ipykernel_17364\\2326982566.py:2: DeprecationWarning: DataFrameGroupBy.apply operated on the grouping columns. This behavior is deprecated, and in a future version of pandas the grouping columns will be excluded from the operation. Either pass `include_groups=False` to exclude the groupings or explicitly select the grouping columns after groupby to silence this warning.\n",
      "  conversion_by_month = data.groupby('month').apply(calc_conversion_rate)\n",
      "C:\\Users\\ntnh\\AppData\\Local\\Temp\\ipykernel_17364\\2326982566.py:3: DeprecationWarning: DataFrameGroupBy.apply operated on the grouping columns. This behavior is deprecated, and in a future version of pandas the grouping columns will be excluded from the operation. Either pass `include_groups=False` to exclude the groupings or explicitly select the grouping columns after groupby to silence this warning.\n",
      "  conversion_by_week = data.groupby('week').apply(calc_conversion_rate)\n",
      "C:\\Users\\ntnh\\AppData\\Local\\Temp\\ipykernel_17364\\2326982566.py:4: DeprecationWarning: DataFrameGroupBy.apply operated on the grouping columns. This behavior is deprecated, and in a future version of pandas the grouping columns will be excluded from the operation. Either pass `include_groups=False` to exclude the groupings or explicitly select the grouping columns after groupby to silence this warning.\n",
      "  conversion_by_day = data.groupby('day').apply(calc_conversion_rate)\n",
      "C:\\Users\\ntnh\\AppData\\Local\\Temp\\ipykernel_17364\\2326982566.py:5: DeprecationWarning: DataFrameGroupBy.apply operated on the grouping columns. This behavior is deprecated, and in a future version of pandas the grouping columns will be excluded from the operation. Either pass `include_groups=False` to exclude the groupings or explicitly select the grouping columns after groupby to silence this warning.\n",
      "  conversion_by_hour = data.groupby('hour').apply(calc_conversion_rate)\n"
     ]
    }
   ],
   "source": [
    "data['hour'] = data['event_time'].dt.hour\n",
    "conversion_by_month = data.groupby('month').apply(calc_conversion_rate)\n",
    "conversion_by_week = data.groupby('week').apply(calc_conversion_rate)\n",
    "conversion_by_day = data.groupby('day').apply(calc_conversion_rate)\n",
    "conversion_by_hour = data.groupby('hour').apply(calc_conversion_rate)"
   ]
  },
  {
   "cell_type": "markdown",
   "id": "665305a7",
   "metadata": {},
   "source": [
    "#### Conversion rate thay đổi theo tháng"
   ]
  },
  {
   "cell_type": "code",
   "execution_count": 50,
   "id": "d98e4948",
   "metadata": {},
   "outputs": [
    {
     "name": "stdout",
     "output_type": "stream",
     "text": [
      "Tỷ lệ chuyển đổi theo tháng:\n",
      " month  Conversion Rate (%)\n",
      "     9                 3.93\n",
      "    10                 4.28\n",
      "    11                 4.45\n",
      "    12                 4.77\n",
      "     1                 4.99\n",
      "     2                 5.17\n"
     ]
    }
   ],
   "source": [
    "custom_month_order = [9, 10, 11, 12, 1, 2]\n",
    "conversion_by_month = conversion_by_month.loc[custom_month_order]\n",
    "\n",
    "print(\"Tỷ lệ chuyển đổi theo tháng:\")\n",
    "print(conversion_by_month.round(2).reset_index(name='Conversion Rate (%)').to_string(index=False))"
   ]
  },
  {
   "cell_type": "code",
   "execution_count": 51,
   "id": "70f16da0",
   "metadata": {},
   "outputs": [
    {
     "data": {
      "application/vnd.plotly.v1+json": {
       "config": {
        "plotlyServerURL": "https://plot.ly"
       },
       "data": [
        {
         "marker": {
          "color": "#0e4f66"
         },
         "name": "Tỷ lệ chuyển đổi",
         "type": "bar",
         "width": 0.4,
         "x": [
          "9",
          "10",
          "11",
          "12",
          "1",
          "2"
         ],
         "y": {
          "bdata": "kDF3LSEfpD8ooImw4emlP2MQWDm0yKY/lNQJaCJsqD94CyQofoypP9QJaCJseKo/",
          "dtype": "f8"
         }
        },
        {
         "line": {
          "color": "gray",
          "width": 2.5
         },
         "marker": {
          "color": "gray",
          "size": 8
         },
         "mode": "lines+markers",
         "name": "Đường xu hướng",
         "type": "scatter",
         "x": [
          "9",
          "10",
          "11",
          "12",
          "1",
          "2"
         ],
         "y": {
          "bdata": "kDF3LSEfpD8ooImw4emlP2MQWDm0yKY/lNQJaCJsqD94CyQofoypP9QJaCJseKo/",
          "dtype": "f8"
         }
        }
       ],
       "layout": {
        "font": {
         "family": "Arial, sans-serif"
        },
        "plot_bgcolor": "#fbfbfb",
        "template": {
         "data": {
          "bar": [
           {
            "error_x": {
             "color": "#2a3f5f"
            },
            "error_y": {
             "color": "#2a3f5f"
            },
            "marker": {
             "line": {
              "color": "#E5ECF6",
              "width": 0.5
             },
             "pattern": {
              "fillmode": "overlay",
              "size": 10,
              "solidity": 0.2
             }
            },
            "type": "bar"
           }
          ],
          "barpolar": [
           {
            "marker": {
             "line": {
              "color": "#E5ECF6",
              "width": 0.5
             },
             "pattern": {
              "fillmode": "overlay",
              "size": 10,
              "solidity": 0.2
             }
            },
            "type": "barpolar"
           }
          ],
          "carpet": [
           {
            "aaxis": {
             "endlinecolor": "#2a3f5f",
             "gridcolor": "white",
             "linecolor": "white",
             "minorgridcolor": "white",
             "startlinecolor": "#2a3f5f"
            },
            "baxis": {
             "endlinecolor": "#2a3f5f",
             "gridcolor": "white",
             "linecolor": "white",
             "minorgridcolor": "white",
             "startlinecolor": "#2a3f5f"
            },
            "type": "carpet"
           }
          ],
          "choropleth": [
           {
            "colorbar": {
             "outlinewidth": 0,
             "ticks": ""
            },
            "type": "choropleth"
           }
          ],
          "contour": [
           {
            "colorbar": {
             "outlinewidth": 0,
             "ticks": ""
            },
            "colorscale": [
             [
              0,
              "#0d0887"
             ],
             [
              0.1111111111111111,
              "#46039f"
             ],
             [
              0.2222222222222222,
              "#7201a8"
             ],
             [
              0.3333333333333333,
              "#9c179e"
             ],
             [
              0.4444444444444444,
              "#bd3786"
             ],
             [
              0.5555555555555556,
              "#d8576b"
             ],
             [
              0.6666666666666666,
              "#ed7953"
             ],
             [
              0.7777777777777778,
              "#fb9f3a"
             ],
             [
              0.8888888888888888,
              "#fdca26"
             ],
             [
              1,
              "#f0f921"
             ]
            ],
            "type": "contour"
           }
          ],
          "contourcarpet": [
           {
            "colorbar": {
             "outlinewidth": 0,
             "ticks": ""
            },
            "type": "contourcarpet"
           }
          ],
          "heatmap": [
           {
            "colorbar": {
             "outlinewidth": 0,
             "ticks": ""
            },
            "colorscale": [
             [
              0,
              "#0d0887"
             ],
             [
              0.1111111111111111,
              "#46039f"
             ],
             [
              0.2222222222222222,
              "#7201a8"
             ],
             [
              0.3333333333333333,
              "#9c179e"
             ],
             [
              0.4444444444444444,
              "#bd3786"
             ],
             [
              0.5555555555555556,
              "#d8576b"
             ],
             [
              0.6666666666666666,
              "#ed7953"
             ],
             [
              0.7777777777777778,
              "#fb9f3a"
             ],
             [
              0.8888888888888888,
              "#fdca26"
             ],
             [
              1,
              "#f0f921"
             ]
            ],
            "type": "heatmap"
           }
          ],
          "histogram": [
           {
            "marker": {
             "pattern": {
              "fillmode": "overlay",
              "size": 10,
              "solidity": 0.2
             }
            },
            "type": "histogram"
           }
          ],
          "histogram2d": [
           {
            "colorbar": {
             "outlinewidth": 0,
             "ticks": ""
            },
            "colorscale": [
             [
              0,
              "#0d0887"
             ],
             [
              0.1111111111111111,
              "#46039f"
             ],
             [
              0.2222222222222222,
              "#7201a8"
             ],
             [
              0.3333333333333333,
              "#9c179e"
             ],
             [
              0.4444444444444444,
              "#bd3786"
             ],
             [
              0.5555555555555556,
              "#d8576b"
             ],
             [
              0.6666666666666666,
              "#ed7953"
             ],
             [
              0.7777777777777778,
              "#fb9f3a"
             ],
             [
              0.8888888888888888,
              "#fdca26"
             ],
             [
              1,
              "#f0f921"
             ]
            ],
            "type": "histogram2d"
           }
          ],
          "histogram2dcontour": [
           {
            "colorbar": {
             "outlinewidth": 0,
             "ticks": ""
            },
            "colorscale": [
             [
              0,
              "#0d0887"
             ],
             [
              0.1111111111111111,
              "#46039f"
             ],
             [
              0.2222222222222222,
              "#7201a8"
             ],
             [
              0.3333333333333333,
              "#9c179e"
             ],
             [
              0.4444444444444444,
              "#bd3786"
             ],
             [
              0.5555555555555556,
              "#d8576b"
             ],
             [
              0.6666666666666666,
              "#ed7953"
             ],
             [
              0.7777777777777778,
              "#fb9f3a"
             ],
             [
              0.8888888888888888,
              "#fdca26"
             ],
             [
              1,
              "#f0f921"
             ]
            ],
            "type": "histogram2dcontour"
           }
          ],
          "mesh3d": [
           {
            "colorbar": {
             "outlinewidth": 0,
             "ticks": ""
            },
            "type": "mesh3d"
           }
          ],
          "parcoords": [
           {
            "line": {
             "colorbar": {
              "outlinewidth": 0,
              "ticks": ""
             }
            },
            "type": "parcoords"
           }
          ],
          "pie": [
           {
            "automargin": true,
            "type": "pie"
           }
          ],
          "scatter": [
           {
            "fillpattern": {
             "fillmode": "overlay",
             "size": 10,
             "solidity": 0.2
            },
            "type": "scatter"
           }
          ],
          "scatter3d": [
           {
            "line": {
             "colorbar": {
              "outlinewidth": 0,
              "ticks": ""
             }
            },
            "marker": {
             "colorbar": {
              "outlinewidth": 0,
              "ticks": ""
             }
            },
            "type": "scatter3d"
           }
          ],
          "scattercarpet": [
           {
            "marker": {
             "colorbar": {
              "outlinewidth": 0,
              "ticks": ""
             }
            },
            "type": "scattercarpet"
           }
          ],
          "scattergeo": [
           {
            "marker": {
             "colorbar": {
              "outlinewidth": 0,
              "ticks": ""
             }
            },
            "type": "scattergeo"
           }
          ],
          "scattergl": [
           {
            "marker": {
             "colorbar": {
              "outlinewidth": 0,
              "ticks": ""
             }
            },
            "type": "scattergl"
           }
          ],
          "scattermap": [
           {
            "marker": {
             "colorbar": {
              "outlinewidth": 0,
              "ticks": ""
             }
            },
            "type": "scattermap"
           }
          ],
          "scattermapbox": [
           {
            "marker": {
             "colorbar": {
              "outlinewidth": 0,
              "ticks": ""
             }
            },
            "type": "scattermapbox"
           }
          ],
          "scatterpolar": [
           {
            "marker": {
             "colorbar": {
              "outlinewidth": 0,
              "ticks": ""
             }
            },
            "type": "scatterpolar"
           }
          ],
          "scatterpolargl": [
           {
            "marker": {
             "colorbar": {
              "outlinewidth": 0,
              "ticks": ""
             }
            },
            "type": "scatterpolargl"
           }
          ],
          "scatterternary": [
           {
            "marker": {
             "colorbar": {
              "outlinewidth": 0,
              "ticks": ""
             }
            },
            "type": "scatterternary"
           }
          ],
          "surface": [
           {
            "colorbar": {
             "outlinewidth": 0,
             "ticks": ""
            },
            "colorscale": [
             [
              0,
              "#0d0887"
             ],
             [
              0.1111111111111111,
              "#46039f"
             ],
             [
              0.2222222222222222,
              "#7201a8"
             ],
             [
              0.3333333333333333,
              "#9c179e"
             ],
             [
              0.4444444444444444,
              "#bd3786"
             ],
             [
              0.5555555555555556,
              "#d8576b"
             ],
             [
              0.6666666666666666,
              "#ed7953"
             ],
             [
              0.7777777777777778,
              "#fb9f3a"
             ],
             [
              0.8888888888888888,
              "#fdca26"
             ],
             [
              1,
              "#f0f921"
             ]
            ],
            "type": "surface"
           }
          ],
          "table": [
           {
            "cells": {
             "fill": {
              "color": "#EBF0F8"
             },
             "line": {
              "color": "white"
             }
            },
            "header": {
             "fill": {
              "color": "#C8D4E3"
             },
             "line": {
              "color": "white"
             }
            },
            "type": "table"
           }
          ]
         },
         "layout": {
          "annotationdefaults": {
           "arrowcolor": "#2a3f5f",
           "arrowhead": 0,
           "arrowwidth": 1
          },
          "autotypenumbers": "strict",
          "coloraxis": {
           "colorbar": {
            "outlinewidth": 0,
            "ticks": ""
           }
          },
          "colorscale": {
           "diverging": [
            [
             0,
             "#8e0152"
            ],
            [
             0.1,
             "#c51b7d"
            ],
            [
             0.2,
             "#de77ae"
            ],
            [
             0.3,
             "#f1b6da"
            ],
            [
             0.4,
             "#fde0ef"
            ],
            [
             0.5,
             "#f7f7f7"
            ],
            [
             0.6,
             "#e6f5d0"
            ],
            [
             0.7,
             "#b8e186"
            ],
            [
             0.8,
             "#7fbc41"
            ],
            [
             0.9,
             "#4d9221"
            ],
            [
             1,
             "#276419"
            ]
           ],
           "sequential": [
            [
             0,
             "#0d0887"
            ],
            [
             0.1111111111111111,
             "#46039f"
            ],
            [
             0.2222222222222222,
             "#7201a8"
            ],
            [
             0.3333333333333333,
             "#9c179e"
            ],
            [
             0.4444444444444444,
             "#bd3786"
            ],
            [
             0.5555555555555556,
             "#d8576b"
            ],
            [
             0.6666666666666666,
             "#ed7953"
            ],
            [
             0.7777777777777778,
             "#fb9f3a"
            ],
            [
             0.8888888888888888,
             "#fdca26"
            ],
            [
             1,
             "#f0f921"
            ]
           ],
           "sequentialminus": [
            [
             0,
             "#0d0887"
            ],
            [
             0.1111111111111111,
             "#46039f"
            ],
            [
             0.2222222222222222,
             "#7201a8"
            ],
            [
             0.3333333333333333,
             "#9c179e"
            ],
            [
             0.4444444444444444,
             "#bd3786"
            ],
            [
             0.5555555555555556,
             "#d8576b"
            ],
            [
             0.6666666666666666,
             "#ed7953"
            ],
            [
             0.7777777777777778,
             "#fb9f3a"
            ],
            [
             0.8888888888888888,
             "#fdca26"
            ],
            [
             1,
             "#f0f921"
            ]
           ]
          },
          "colorway": [
           "#636efa",
           "#EF553B",
           "#00cc96",
           "#ab63fa",
           "#FFA15A",
           "#19d3f3",
           "#FF6692",
           "#B6E880",
           "#FF97FF",
           "#FECB52"
          ],
          "font": {
           "color": "#2a3f5f"
          },
          "geo": {
           "bgcolor": "white",
           "lakecolor": "white",
           "landcolor": "#E5ECF6",
           "showlakes": true,
           "showland": true,
           "subunitcolor": "white"
          },
          "hoverlabel": {
           "align": "left"
          },
          "hovermode": "closest",
          "mapbox": {
           "style": "light"
          },
          "paper_bgcolor": "white",
          "plot_bgcolor": "#E5ECF6",
          "polar": {
           "angularaxis": {
            "gridcolor": "white",
            "linecolor": "white",
            "ticks": ""
           },
           "bgcolor": "#E5ECF6",
           "radialaxis": {
            "gridcolor": "white",
            "linecolor": "white",
            "ticks": ""
           }
          },
          "scene": {
           "xaxis": {
            "backgroundcolor": "#E5ECF6",
            "gridcolor": "white",
            "gridwidth": 2,
            "linecolor": "white",
            "showbackground": true,
            "ticks": "",
            "zerolinecolor": "white"
           },
           "yaxis": {
            "backgroundcolor": "#E5ECF6",
            "gridcolor": "white",
            "gridwidth": 2,
            "linecolor": "white",
            "showbackground": true,
            "ticks": "",
            "zerolinecolor": "white"
           },
           "zaxis": {
            "backgroundcolor": "#E5ECF6",
            "gridcolor": "white",
            "gridwidth": 2,
            "linecolor": "white",
            "showbackground": true,
            "ticks": "",
            "zerolinecolor": "white"
           }
          },
          "shapedefaults": {
           "line": {
            "color": "#2a3f5f"
           }
          },
          "ternary": {
           "aaxis": {
            "gridcolor": "white",
            "linecolor": "white",
            "ticks": ""
           },
           "baxis": {
            "gridcolor": "white",
            "linecolor": "white",
            "ticks": ""
           },
           "bgcolor": "#E5ECF6",
           "caxis": {
            "gridcolor": "white",
            "linecolor": "white",
            "ticks": ""
           }
          },
          "title": {
           "x": 0.05
          },
          "xaxis": {
           "automargin": true,
           "gridcolor": "white",
           "linecolor": "white",
           "ticks": "",
           "title": {
            "standoff": 15
           },
           "zerolinecolor": "white",
           "zerolinewidth": 2
          },
          "yaxis": {
           "automargin": true,
           "gridcolor": "white",
           "linecolor": "white",
           "ticks": "",
           "title": {
            "standoff": 15
           },
           "zerolinecolor": "white",
           "zerolinewidth": 2
          }
         }
        },
        "title": {
         "font": {
          "color": "#323232",
          "family": "serif",
          "size": 20,
          "weight": "bold"
         },
         "text": "Tỷ lệ chuyển đổi theo tháng từ View sang Purchase"
        },
        "xaxis": {
         "showgrid": false,
         "title": {
          "text": "Tháng"
         }
        },
        "yaxis": {
         "gridcolor": "gray",
         "gridwidth": 0.5,
         "showgrid": true,
         "tickformat": ".2%",
         "title": {
          "text": "Tỷ lệ chuyển đổi (%)"
         }
        }
       }
      }
     },
     "metadata": {},
     "output_type": "display_data"
    }
   ],
   "source": [
    "import plotly.graph_objects as go\n",
    "\n",
    "months = conversion_by_month.index.astype(str)\n",
    "rates = conversion_by_month.round(2).values / 100 \n",
    "\n",
    "fig = go.Figure()\n",
    "\n",
    "fig.add_trace(go.Bar(\n",
    "    x=months,\n",
    "    y=rates,\n",
    "    name='Tỷ lệ chuyển đổi',\n",
    "    marker_color='#0e4f66',\n",
    "    width=0.4,\n",
    "))\n",
    "\n",
    "fig.add_trace(go.Scatter(\n",
    "    x=months,\n",
    "    y=rates,\n",
    "    mode='lines+markers',\n",
    "    name='Đường xu hướng',\n",
    "    line=dict(color=\"gray\", width=2.5),\n",
    "    marker=dict(color=\"gray\", size=8),\n",
    "))\n",
    "\n",
    "fig.update_layout(\n",
    "    title='Tỷ lệ chuyển đổi theo tháng từ View sang Purchase',\n",
    "    title_font=dict(size=20, family=\"serif\", color=\"#323232\", weight=\"bold\"),\n",
    "    yaxis_tickformat=\".2%\",\n",
    "    xaxis_title=\"Tháng\",\n",
    "    yaxis_title=\"Tỷ lệ chuyển đổi (%)\",\n",
    "    plot_bgcolor=\"#fbfbfb\",\n",
    "    font=dict(family=\"Arial, sans-serif\"),\n",
    "    xaxis=dict(showgrid=False),\n",
    "    yaxis=dict(showgrid=True, gridcolor='gray', gridwidth=0.5),\n",
    ")\n",
    "\n",
    "fig.show()"
   ]
  },
  {
   "cell_type": "markdown",
   "id": "97640d95",
   "metadata": {},
   "source": [
    "Ta thấy xu hướng `tăng trưởng dần` theo thời gian từ tháng 9 → tháng 2, cho thấy xu hướng:\n",
    "\n",
    "- Người dùng có xu hướng `mua sắm nhiều hơn` vào `cuối năm` và `đầu năm` (dịp lễ, Tết).\n",
    "\n",
    "- Tháng 9 có tỷ lệ thấp nhất → cần cải thiện khuyến mãi, chiến dịch marketing, tối ưu UI/UX."
   ]
  },
  {
   "cell_type": "markdown",
   "id": "08dc84b0",
   "metadata": {},
   "source": [
    "#### Conversion rate theo tuần"
   ]
  },
  {
   "cell_type": "code",
   "execution_count": 52,
   "id": "c063d2f6",
   "metadata": {},
   "outputs": [
    {
     "name": "stdout",
     "output_type": "stream",
     "text": [
      "Tỷ lệ chuyển đổi theo tuần:\n",
      " week  Conversion Rate (%)\n",
      "   39                 3.65\n",
      "   40                 4.18\n",
      "   41                 4.59\n",
      "   42                 4.25\n",
      "   43                 4.29\n",
      "   44                 4.13\n",
      "   45                 4.29\n",
      "   46                 4.89\n",
      "   47                 4.16\n",
      "   48                 4.41\n",
      "   49                 4.30\n",
      "   50                 4.67\n",
      "   51                 5.13\n",
      "   52                 4.87\n",
      "   53                 4.73\n",
      "    1                 4.57\n",
      "    2                 5.02\n",
      "    3                 5.42\n",
      "    4                 5.10\n",
      "    5                 4.75\n",
      "    6                 5.29\n",
      "    7                 5.55\n",
      "    8                 5.10\n"
     ]
    }
   ],
   "source": [
    "custom_week_order = [39, 40, 41, 42, 43, 44, 45, 46, 47, 48, 49, 50, 51, 52, 53, 1, 2, 3, 4, 5, 6, 7, 8]\n",
    "conversion_by_week = conversion_by_week.loc[custom_week_order]\n",
    "\n",
    "print(\"Tỷ lệ chuyển đổi theo tuần:\")\n",
    "print(conversion_by_week.round(2).reset_index(name='Conversion Rate (%)').to_string(index=False))"
   ]
  },
  {
   "cell_type": "code",
   "execution_count": 53,
   "id": "410fd5ec",
   "metadata": {},
   "outputs": [
    {
     "data": {
      "application/vnd.plotly.v1+json": {
       "config": {
        "plotlyServerURL": "https://plot.ly"
       },
       "data": [
        {
         "marker": {
          "color": "#0e4f66"
         },
         "name": "Tỷ lệ chuyển đổi",
         "type": "bar",
         "width": 0.4,
         "x": [
          "39",
          "40",
          "41",
          "42",
          "43",
          "44",
          "45",
          "46",
          "47",
          "48",
          "49",
          "50",
          "51",
          "52",
          "53",
          "1",
          "2",
          "3",
          "4",
          "5",
          "6",
          "7",
          "8"
         ],
         "y": {
          "bdata": "46WbxCCwoj/XEvJBz2alPzjWxW00gKc/w/UoXI/CpT9JLv8h/falPy9MpgpGJaU/SS7/If32pT8ofoy5awmpP5T2Bl+YTKU/3NeBc0aUpj9qvHSTGASmP0VHcvkP6ac/TtGRXP5Dqj/lYaHWNO+oPw+cM6K0N6g/9rnaiv1lpz/ctYR80LOpPxzr4jYawKs/6SYxCKwcqj9SuB6F61GoP2iz6nO1Fas/0SLb+X5qrD/pJjEIrByqPw==",
          "dtype": "f8"
         }
        },
        {
         "line": {
          "color": "gray",
          "width": 2.5
         },
         "marker": {
          "color": "gray",
          "size": 8
         },
         "mode": "lines+markers",
         "name": "Đường xu hướng",
         "type": "scatter",
         "x": [
          "39",
          "40",
          "41",
          "42",
          "43",
          "44",
          "45",
          "46",
          "47",
          "48",
          "49",
          "50",
          "51",
          "52",
          "53",
          "1",
          "2",
          "3",
          "4",
          "5",
          "6",
          "7",
          "8"
         ],
         "y": {
          "bdata": "46WbxCCwoj/XEvJBz2alPzjWxW00gKc/w/UoXI/CpT9JLv8h/falPy9MpgpGJaU/SS7/If32pT8ofoy5awmpP5T2Bl+YTKU/3NeBc0aUpj9qvHSTGASmP0VHcvkP6ac/TtGRXP5Dqj/lYaHWNO+oPw+cM6K0N6g/9rnaiv1lpz/ctYR80LOpPxzr4jYawKs/6SYxCKwcqj9SuB6F61GoP2iz6nO1Fas/0SLb+X5qrD/pJjEIrByqPw==",
          "dtype": "f8"
         }
        }
       ],
       "layout": {
        "font": {
         "family": "Arial, sans-serif"
        },
        "plot_bgcolor": "#fbfbfb",
        "template": {
         "data": {
          "bar": [
           {
            "error_x": {
             "color": "#2a3f5f"
            },
            "error_y": {
             "color": "#2a3f5f"
            },
            "marker": {
             "line": {
              "color": "#E5ECF6",
              "width": 0.5
             },
             "pattern": {
              "fillmode": "overlay",
              "size": 10,
              "solidity": 0.2
             }
            },
            "type": "bar"
           }
          ],
          "barpolar": [
           {
            "marker": {
             "line": {
              "color": "#E5ECF6",
              "width": 0.5
             },
             "pattern": {
              "fillmode": "overlay",
              "size": 10,
              "solidity": 0.2
             }
            },
            "type": "barpolar"
           }
          ],
          "carpet": [
           {
            "aaxis": {
             "endlinecolor": "#2a3f5f",
             "gridcolor": "white",
             "linecolor": "white",
             "minorgridcolor": "white",
             "startlinecolor": "#2a3f5f"
            },
            "baxis": {
             "endlinecolor": "#2a3f5f",
             "gridcolor": "white",
             "linecolor": "white",
             "minorgridcolor": "white",
             "startlinecolor": "#2a3f5f"
            },
            "type": "carpet"
           }
          ],
          "choropleth": [
           {
            "colorbar": {
             "outlinewidth": 0,
             "ticks": ""
            },
            "type": "choropleth"
           }
          ],
          "contour": [
           {
            "colorbar": {
             "outlinewidth": 0,
             "ticks": ""
            },
            "colorscale": [
             [
              0,
              "#0d0887"
             ],
             [
              0.1111111111111111,
              "#46039f"
             ],
             [
              0.2222222222222222,
              "#7201a8"
             ],
             [
              0.3333333333333333,
              "#9c179e"
             ],
             [
              0.4444444444444444,
              "#bd3786"
             ],
             [
              0.5555555555555556,
              "#d8576b"
             ],
             [
              0.6666666666666666,
              "#ed7953"
             ],
             [
              0.7777777777777778,
              "#fb9f3a"
             ],
             [
              0.8888888888888888,
              "#fdca26"
             ],
             [
              1,
              "#f0f921"
             ]
            ],
            "type": "contour"
           }
          ],
          "contourcarpet": [
           {
            "colorbar": {
             "outlinewidth": 0,
             "ticks": ""
            },
            "type": "contourcarpet"
           }
          ],
          "heatmap": [
           {
            "colorbar": {
             "outlinewidth": 0,
             "ticks": ""
            },
            "colorscale": [
             [
              0,
              "#0d0887"
             ],
             [
              0.1111111111111111,
              "#46039f"
             ],
             [
              0.2222222222222222,
              "#7201a8"
             ],
             [
              0.3333333333333333,
              "#9c179e"
             ],
             [
              0.4444444444444444,
              "#bd3786"
             ],
             [
              0.5555555555555556,
              "#d8576b"
             ],
             [
              0.6666666666666666,
              "#ed7953"
             ],
             [
              0.7777777777777778,
              "#fb9f3a"
             ],
             [
              0.8888888888888888,
              "#fdca26"
             ],
             [
              1,
              "#f0f921"
             ]
            ],
            "type": "heatmap"
           }
          ],
          "histogram": [
           {
            "marker": {
             "pattern": {
              "fillmode": "overlay",
              "size": 10,
              "solidity": 0.2
             }
            },
            "type": "histogram"
           }
          ],
          "histogram2d": [
           {
            "colorbar": {
             "outlinewidth": 0,
             "ticks": ""
            },
            "colorscale": [
             [
              0,
              "#0d0887"
             ],
             [
              0.1111111111111111,
              "#46039f"
             ],
             [
              0.2222222222222222,
              "#7201a8"
             ],
             [
              0.3333333333333333,
              "#9c179e"
             ],
             [
              0.4444444444444444,
              "#bd3786"
             ],
             [
              0.5555555555555556,
              "#d8576b"
             ],
             [
              0.6666666666666666,
              "#ed7953"
             ],
             [
              0.7777777777777778,
              "#fb9f3a"
             ],
             [
              0.8888888888888888,
              "#fdca26"
             ],
             [
              1,
              "#f0f921"
             ]
            ],
            "type": "histogram2d"
           }
          ],
          "histogram2dcontour": [
           {
            "colorbar": {
             "outlinewidth": 0,
             "ticks": ""
            },
            "colorscale": [
             [
              0,
              "#0d0887"
             ],
             [
              0.1111111111111111,
              "#46039f"
             ],
             [
              0.2222222222222222,
              "#7201a8"
             ],
             [
              0.3333333333333333,
              "#9c179e"
             ],
             [
              0.4444444444444444,
              "#bd3786"
             ],
             [
              0.5555555555555556,
              "#d8576b"
             ],
             [
              0.6666666666666666,
              "#ed7953"
             ],
             [
              0.7777777777777778,
              "#fb9f3a"
             ],
             [
              0.8888888888888888,
              "#fdca26"
             ],
             [
              1,
              "#f0f921"
             ]
            ],
            "type": "histogram2dcontour"
           }
          ],
          "mesh3d": [
           {
            "colorbar": {
             "outlinewidth": 0,
             "ticks": ""
            },
            "type": "mesh3d"
           }
          ],
          "parcoords": [
           {
            "line": {
             "colorbar": {
              "outlinewidth": 0,
              "ticks": ""
             }
            },
            "type": "parcoords"
           }
          ],
          "pie": [
           {
            "automargin": true,
            "type": "pie"
           }
          ],
          "scatter": [
           {
            "fillpattern": {
             "fillmode": "overlay",
             "size": 10,
             "solidity": 0.2
            },
            "type": "scatter"
           }
          ],
          "scatter3d": [
           {
            "line": {
             "colorbar": {
              "outlinewidth": 0,
              "ticks": ""
             }
            },
            "marker": {
             "colorbar": {
              "outlinewidth": 0,
              "ticks": ""
             }
            },
            "type": "scatter3d"
           }
          ],
          "scattercarpet": [
           {
            "marker": {
             "colorbar": {
              "outlinewidth": 0,
              "ticks": ""
             }
            },
            "type": "scattercarpet"
           }
          ],
          "scattergeo": [
           {
            "marker": {
             "colorbar": {
              "outlinewidth": 0,
              "ticks": ""
             }
            },
            "type": "scattergeo"
           }
          ],
          "scattergl": [
           {
            "marker": {
             "colorbar": {
              "outlinewidth": 0,
              "ticks": ""
             }
            },
            "type": "scattergl"
           }
          ],
          "scattermap": [
           {
            "marker": {
             "colorbar": {
              "outlinewidth": 0,
              "ticks": ""
             }
            },
            "type": "scattermap"
           }
          ],
          "scattermapbox": [
           {
            "marker": {
             "colorbar": {
              "outlinewidth": 0,
              "ticks": ""
             }
            },
            "type": "scattermapbox"
           }
          ],
          "scatterpolar": [
           {
            "marker": {
             "colorbar": {
              "outlinewidth": 0,
              "ticks": ""
             }
            },
            "type": "scatterpolar"
           }
          ],
          "scatterpolargl": [
           {
            "marker": {
             "colorbar": {
              "outlinewidth": 0,
              "ticks": ""
             }
            },
            "type": "scatterpolargl"
           }
          ],
          "scatterternary": [
           {
            "marker": {
             "colorbar": {
              "outlinewidth": 0,
              "ticks": ""
             }
            },
            "type": "scatterternary"
           }
          ],
          "surface": [
           {
            "colorbar": {
             "outlinewidth": 0,
             "ticks": ""
            },
            "colorscale": [
             [
              0,
              "#0d0887"
             ],
             [
              0.1111111111111111,
              "#46039f"
             ],
             [
              0.2222222222222222,
              "#7201a8"
             ],
             [
              0.3333333333333333,
              "#9c179e"
             ],
             [
              0.4444444444444444,
              "#bd3786"
             ],
             [
              0.5555555555555556,
              "#d8576b"
             ],
             [
              0.6666666666666666,
              "#ed7953"
             ],
             [
              0.7777777777777778,
              "#fb9f3a"
             ],
             [
              0.8888888888888888,
              "#fdca26"
             ],
             [
              1,
              "#f0f921"
             ]
            ],
            "type": "surface"
           }
          ],
          "table": [
           {
            "cells": {
             "fill": {
              "color": "#EBF0F8"
             },
             "line": {
              "color": "white"
             }
            },
            "header": {
             "fill": {
              "color": "#C8D4E3"
             },
             "line": {
              "color": "white"
             }
            },
            "type": "table"
           }
          ]
         },
         "layout": {
          "annotationdefaults": {
           "arrowcolor": "#2a3f5f",
           "arrowhead": 0,
           "arrowwidth": 1
          },
          "autotypenumbers": "strict",
          "coloraxis": {
           "colorbar": {
            "outlinewidth": 0,
            "ticks": ""
           }
          },
          "colorscale": {
           "diverging": [
            [
             0,
             "#8e0152"
            ],
            [
             0.1,
             "#c51b7d"
            ],
            [
             0.2,
             "#de77ae"
            ],
            [
             0.3,
             "#f1b6da"
            ],
            [
             0.4,
             "#fde0ef"
            ],
            [
             0.5,
             "#f7f7f7"
            ],
            [
             0.6,
             "#e6f5d0"
            ],
            [
             0.7,
             "#b8e186"
            ],
            [
             0.8,
             "#7fbc41"
            ],
            [
             0.9,
             "#4d9221"
            ],
            [
             1,
             "#276419"
            ]
           ],
           "sequential": [
            [
             0,
             "#0d0887"
            ],
            [
             0.1111111111111111,
             "#46039f"
            ],
            [
             0.2222222222222222,
             "#7201a8"
            ],
            [
             0.3333333333333333,
             "#9c179e"
            ],
            [
             0.4444444444444444,
             "#bd3786"
            ],
            [
             0.5555555555555556,
             "#d8576b"
            ],
            [
             0.6666666666666666,
             "#ed7953"
            ],
            [
             0.7777777777777778,
             "#fb9f3a"
            ],
            [
             0.8888888888888888,
             "#fdca26"
            ],
            [
             1,
             "#f0f921"
            ]
           ],
           "sequentialminus": [
            [
             0,
             "#0d0887"
            ],
            [
             0.1111111111111111,
             "#46039f"
            ],
            [
             0.2222222222222222,
             "#7201a8"
            ],
            [
             0.3333333333333333,
             "#9c179e"
            ],
            [
             0.4444444444444444,
             "#bd3786"
            ],
            [
             0.5555555555555556,
             "#d8576b"
            ],
            [
             0.6666666666666666,
             "#ed7953"
            ],
            [
             0.7777777777777778,
             "#fb9f3a"
            ],
            [
             0.8888888888888888,
             "#fdca26"
            ],
            [
             1,
             "#f0f921"
            ]
           ]
          },
          "colorway": [
           "#636efa",
           "#EF553B",
           "#00cc96",
           "#ab63fa",
           "#FFA15A",
           "#19d3f3",
           "#FF6692",
           "#B6E880",
           "#FF97FF",
           "#FECB52"
          ],
          "font": {
           "color": "#2a3f5f"
          },
          "geo": {
           "bgcolor": "white",
           "lakecolor": "white",
           "landcolor": "#E5ECF6",
           "showlakes": true,
           "showland": true,
           "subunitcolor": "white"
          },
          "hoverlabel": {
           "align": "left"
          },
          "hovermode": "closest",
          "mapbox": {
           "style": "light"
          },
          "paper_bgcolor": "white",
          "plot_bgcolor": "#E5ECF6",
          "polar": {
           "angularaxis": {
            "gridcolor": "white",
            "linecolor": "white",
            "ticks": ""
           },
           "bgcolor": "#E5ECF6",
           "radialaxis": {
            "gridcolor": "white",
            "linecolor": "white",
            "ticks": ""
           }
          },
          "scene": {
           "xaxis": {
            "backgroundcolor": "#E5ECF6",
            "gridcolor": "white",
            "gridwidth": 2,
            "linecolor": "white",
            "showbackground": true,
            "ticks": "",
            "zerolinecolor": "white"
           },
           "yaxis": {
            "backgroundcolor": "#E5ECF6",
            "gridcolor": "white",
            "gridwidth": 2,
            "linecolor": "white",
            "showbackground": true,
            "ticks": "",
            "zerolinecolor": "white"
           },
           "zaxis": {
            "backgroundcolor": "#E5ECF6",
            "gridcolor": "white",
            "gridwidth": 2,
            "linecolor": "white",
            "showbackground": true,
            "ticks": "",
            "zerolinecolor": "white"
           }
          },
          "shapedefaults": {
           "line": {
            "color": "#2a3f5f"
           }
          },
          "ternary": {
           "aaxis": {
            "gridcolor": "white",
            "linecolor": "white",
            "ticks": ""
           },
           "baxis": {
            "gridcolor": "white",
            "linecolor": "white",
            "ticks": ""
           },
           "bgcolor": "#E5ECF6",
           "caxis": {
            "gridcolor": "white",
            "linecolor": "white",
            "ticks": ""
           }
          },
          "title": {
           "x": 0.05
          },
          "xaxis": {
           "automargin": true,
           "gridcolor": "white",
           "linecolor": "white",
           "ticks": "",
           "title": {
            "standoff": 15
           },
           "zerolinecolor": "white",
           "zerolinewidth": 2
          },
          "yaxis": {
           "automargin": true,
           "gridcolor": "white",
           "linecolor": "white",
           "ticks": "",
           "title": {
            "standoff": 15
           },
           "zerolinecolor": "white",
           "zerolinewidth": 2
          }
         }
        },
        "title": {
         "font": {
          "color": "#323232",
          "family": "serif",
          "size": 20,
          "weight": "bold"
         },
         "text": "Tỷ lệ chuyển đổi theo tuần từ View sang Purchase"
        },
        "xaxis": {
         "showgrid": false,
         "tickvals": [
          "39",
          "40",
          "41",
          "42",
          "43",
          "44",
          "45",
          "46",
          "47",
          "48",
          "49",
          "50",
          "51",
          "52",
          "53",
          "1",
          "2",
          "3",
          "4",
          "5",
          "6",
          "7",
          "8"
         ],
         "title": {
          "text": "Tuần"
         }
        },
        "yaxis": {
         "gridcolor": "gray",
         "gridwidth": 0.5,
         "showgrid": true,
         "tickformat": ".2%",
         "title": {
          "text": "Tỷ lệ chuyển đổi"
         }
        }
       }
      }
     },
     "metadata": {},
     "output_type": "display_data"
    }
   ],
   "source": [
    "weeks = conversion_by_week.index.astype(str)\n",
    "rates = conversion_by_week.round(2).values / 100\n",
    "\n",
    "fig = go.Figure()\n",
    "\n",
    "fig.add_trace(go.Bar(\n",
    "    x=weeks,\n",
    "    y=rates,\n",
    "    name='Tỷ lệ chuyển đổi',\n",
    "    marker_color='#0e4f66',\n",
    "    width=0.4,\n",
    "))\n",
    "\n",
    "fig.add_trace(go.Scatter(\n",
    "    x=weeks,\n",
    "    y=rates,\n",
    "    mode='lines+markers',\n",
    "    name='Đường xu hướng',\n",
    "    line=dict(color=\"gray\", width=2.5),\n",
    "    marker=dict(color=\"gray\", size=8),\n",
    "))\n",
    "\n",
    "fig.update_layout(\n",
    "    title='Tỷ lệ chuyển đổi theo tuần từ View sang Purchase',\n",
    "    title_font=dict(size=20, family=\"serif\", color=\"#323232\", weight=\"bold\"), \n",
    "    yaxis_tickformat=\".2%\", \n",
    "    xaxis_title=\"Tuần\",\n",
    "    yaxis_title=\"Tỷ lệ chuyển đổi\",\n",
    "    plot_bgcolor=\"#fbfbfb\",\n",
    "    font=dict(family=\"Arial, sans-serif\"),\n",
    "    xaxis=dict(showgrid=False),\n",
    "    yaxis=dict(showgrid=True, gridcolor='gray', gridwidth=0.5),\n",
    "    xaxis_tickvals=weeks,  \n",
    ")\n",
    "\n",
    "fig.show()"
   ]
  },
  {
   "cell_type": "markdown",
   "id": "87bcd5b1",
   "metadata": {},
   "source": [
    "- Tỷ lệ chuyển đổi theo tuần dao động ổn định quanh mức 4% – 5.5%\n",
    "→ Cho thấy hiệu quả giữ vững, không có biến động lớn bất thường.\n",
    "\n",
    "- Xu hướng chung có chiều hướng `tăng nhẹ`\n",
    "→ Đặc biệt từ `tuần 1` đến `tuần 7`, tỷ lệ chuyển đổi có sự cải thiện rõ rệt, đạt đỉnh khoảng `5.5%` ở `tuần 7`.\n",
    "\n",
    "- Giai đoạn `thấp nhất` rơi vào `tuần 39` (dưới 4%)\n",
    "→ Cần xem xét nguyên nhân: có thể do ít chiến dịch, thời điểm ít mua sắm, hoặc thay đổi thuật toán phân phối."
   ]
  },
  {
   "cell_type": "markdown",
   "id": "96b0d043",
   "metadata": {},
   "source": [
    "#### Conversion rate theo ngày"
   ]
  },
  {
   "cell_type": "code",
   "execution_count": 54,
   "id": "298580c7",
   "metadata": {},
   "outputs": [
    {
     "name": "stdout",
     "output_type": "stream",
     "text": [
      "Tỷ lệ chuyển đổi theo ngày:\n",
      " day  Conversion Rate (%)\n",
      "   1                 4.48\n",
      "   2                 4.32\n",
      "   3                 4.15\n",
      "   4                 4.31\n",
      "   5                 4.40\n",
      "   6                 4.52\n",
      "   7                 4.76\n",
      "   8                 4.96\n",
      "   9                 4.77\n",
      "  10                 4.54\n",
      "  11                 5.04\n",
      "  12                 5.09\n",
      "  13                 4.90\n",
      "  14                 4.99\n",
      "  15                 4.39\n",
      "  16                 4.77\n",
      "  17                 4.87\n",
      "  18                 5.14\n",
      "  19                 4.75\n",
      "  20                 4.99\n",
      "  21                 4.99\n",
      "  22                 4.60\n",
      "  23                 5.05\n",
      "  24                 5.06\n",
      "  25                 4.60\n",
      "  26                 4.53\n",
      "  27                 4.63\n",
      "  28                 4.68\n",
      "  29                 4.31\n",
      "  30                 4.47\n",
      "  31                 4.53\n"
     ]
    }
   ],
   "source": [
    "print(\"Tỷ lệ chuyển đổi theo ngày:\")\n",
    "print(conversion_by_day.round(2).reset_index(name='Conversion Rate (%)').to_string(index=False))"
   ]
  },
  {
   "cell_type": "code",
   "execution_count": 55,
   "id": "08e0f387",
   "metadata": {},
   "outputs": [
    {
     "data": {
      "application/vnd.plotly.v1+json": {
       "config": {
        "plotlyServerURL": "https://plot.ly"
       },
       "data": [
        {
         "marker": {
          "color": "#0e4f66"
         },
         "name": "Tỷ lệ chuyển đổi",
         "type": "bar",
         "width": 0.4,
         "x": [
          "1",
          "2",
          "3",
          "4",
          "5",
          "6",
          "7",
          "8",
          "9",
          "10",
          "11",
          "12",
          "13",
          "14",
          "15",
          "16",
          "17",
          "18",
          "19",
          "20",
          "21",
          "22",
          "23",
          "24",
          "25",
          "26",
          "27",
          "28",
          "29",
          "30",
          "31"
         ],
         "y": {
          "bdata": "yLq4jQbwpj+u2F92Tx6mP3Noke18P6U/jErqBDQRpj+7SQwCK4emP03zjlN0JKc/c0aU9gZfqD8TYcPTK2WpP5TUCWgibKg/kQ96Nqs+pz8g0m9fB86pP8iYu5aQD6o/SgwCK4cWqT94CyQofoypP5i7lpAPeqY/lNQJaCJsqD/lYaHWNO+oP29fB84ZUao/UrgehetRqD94CyQofoypP3gLJCh+jKk/WmQ730+Npz9BYOXQItupP2PuWkI+6Kk/WmQ730+Npz9vgQTFjzGnP78OnDOitKc/ZtXnaiv2pz+MSuoENBGmP6UsQxzr4qY/b4EExY8xpz8=",
          "dtype": "f8"
         }
        },
        {
         "line": {
          "color": "gray",
          "width": 2.5
         },
         "marker": {
          "color": "gray",
          "size": 8
         },
         "mode": "lines+markers",
         "name": "Đường xu hướng",
         "type": "scatter",
         "x": [
          "1",
          "2",
          "3",
          "4",
          "5",
          "6",
          "7",
          "8",
          "9",
          "10",
          "11",
          "12",
          "13",
          "14",
          "15",
          "16",
          "17",
          "18",
          "19",
          "20",
          "21",
          "22",
          "23",
          "24",
          "25",
          "26",
          "27",
          "28",
          "29",
          "30",
          "31"
         ],
         "y": {
          "bdata": "yLq4jQbwpj+u2F92Tx6mP3Noke18P6U/jErqBDQRpj+7SQwCK4emP03zjlN0JKc/c0aU9gZfqD8TYcPTK2WpP5TUCWgibKg/kQ96Nqs+pz8g0m9fB86pP8iYu5aQD6o/SgwCK4cWqT94CyQofoypP5i7lpAPeqY/lNQJaCJsqD/lYaHWNO+oP29fB84ZUao/UrgehetRqD94CyQofoypP3gLJCh+jKk/WmQ730+Npz9BYOXQItupP2PuWkI+6Kk/WmQ730+Npz9vgQTFjzGnP78OnDOitKc/ZtXnaiv2pz+MSuoENBGmP6UsQxzr4qY/b4EExY8xpz8=",
          "dtype": "f8"
         }
        }
       ],
       "layout": {
        "font": {
         "family": "Arial, sans-serif"
        },
        "plot_bgcolor": "#fbfbfb",
        "template": {
         "data": {
          "bar": [
           {
            "error_x": {
             "color": "#2a3f5f"
            },
            "error_y": {
             "color": "#2a3f5f"
            },
            "marker": {
             "line": {
              "color": "#E5ECF6",
              "width": 0.5
             },
             "pattern": {
              "fillmode": "overlay",
              "size": 10,
              "solidity": 0.2
             }
            },
            "type": "bar"
           }
          ],
          "barpolar": [
           {
            "marker": {
             "line": {
              "color": "#E5ECF6",
              "width": 0.5
             },
             "pattern": {
              "fillmode": "overlay",
              "size": 10,
              "solidity": 0.2
             }
            },
            "type": "barpolar"
           }
          ],
          "carpet": [
           {
            "aaxis": {
             "endlinecolor": "#2a3f5f",
             "gridcolor": "white",
             "linecolor": "white",
             "minorgridcolor": "white",
             "startlinecolor": "#2a3f5f"
            },
            "baxis": {
             "endlinecolor": "#2a3f5f",
             "gridcolor": "white",
             "linecolor": "white",
             "minorgridcolor": "white",
             "startlinecolor": "#2a3f5f"
            },
            "type": "carpet"
           }
          ],
          "choropleth": [
           {
            "colorbar": {
             "outlinewidth": 0,
             "ticks": ""
            },
            "type": "choropleth"
           }
          ],
          "contour": [
           {
            "colorbar": {
             "outlinewidth": 0,
             "ticks": ""
            },
            "colorscale": [
             [
              0,
              "#0d0887"
             ],
             [
              0.1111111111111111,
              "#46039f"
             ],
             [
              0.2222222222222222,
              "#7201a8"
             ],
             [
              0.3333333333333333,
              "#9c179e"
             ],
             [
              0.4444444444444444,
              "#bd3786"
             ],
             [
              0.5555555555555556,
              "#d8576b"
             ],
             [
              0.6666666666666666,
              "#ed7953"
             ],
             [
              0.7777777777777778,
              "#fb9f3a"
             ],
             [
              0.8888888888888888,
              "#fdca26"
             ],
             [
              1,
              "#f0f921"
             ]
            ],
            "type": "contour"
           }
          ],
          "contourcarpet": [
           {
            "colorbar": {
             "outlinewidth": 0,
             "ticks": ""
            },
            "type": "contourcarpet"
           }
          ],
          "heatmap": [
           {
            "colorbar": {
             "outlinewidth": 0,
             "ticks": ""
            },
            "colorscale": [
             [
              0,
              "#0d0887"
             ],
             [
              0.1111111111111111,
              "#46039f"
             ],
             [
              0.2222222222222222,
              "#7201a8"
             ],
             [
              0.3333333333333333,
              "#9c179e"
             ],
             [
              0.4444444444444444,
              "#bd3786"
             ],
             [
              0.5555555555555556,
              "#d8576b"
             ],
             [
              0.6666666666666666,
              "#ed7953"
             ],
             [
              0.7777777777777778,
              "#fb9f3a"
             ],
             [
              0.8888888888888888,
              "#fdca26"
             ],
             [
              1,
              "#f0f921"
             ]
            ],
            "type": "heatmap"
           }
          ],
          "histogram": [
           {
            "marker": {
             "pattern": {
              "fillmode": "overlay",
              "size": 10,
              "solidity": 0.2
             }
            },
            "type": "histogram"
           }
          ],
          "histogram2d": [
           {
            "colorbar": {
             "outlinewidth": 0,
             "ticks": ""
            },
            "colorscale": [
             [
              0,
              "#0d0887"
             ],
             [
              0.1111111111111111,
              "#46039f"
             ],
             [
              0.2222222222222222,
              "#7201a8"
             ],
             [
              0.3333333333333333,
              "#9c179e"
             ],
             [
              0.4444444444444444,
              "#bd3786"
             ],
             [
              0.5555555555555556,
              "#d8576b"
             ],
             [
              0.6666666666666666,
              "#ed7953"
             ],
             [
              0.7777777777777778,
              "#fb9f3a"
             ],
             [
              0.8888888888888888,
              "#fdca26"
             ],
             [
              1,
              "#f0f921"
             ]
            ],
            "type": "histogram2d"
           }
          ],
          "histogram2dcontour": [
           {
            "colorbar": {
             "outlinewidth": 0,
             "ticks": ""
            },
            "colorscale": [
             [
              0,
              "#0d0887"
             ],
             [
              0.1111111111111111,
              "#46039f"
             ],
             [
              0.2222222222222222,
              "#7201a8"
             ],
             [
              0.3333333333333333,
              "#9c179e"
             ],
             [
              0.4444444444444444,
              "#bd3786"
             ],
             [
              0.5555555555555556,
              "#d8576b"
             ],
             [
              0.6666666666666666,
              "#ed7953"
             ],
             [
              0.7777777777777778,
              "#fb9f3a"
             ],
             [
              0.8888888888888888,
              "#fdca26"
             ],
             [
              1,
              "#f0f921"
             ]
            ],
            "type": "histogram2dcontour"
           }
          ],
          "mesh3d": [
           {
            "colorbar": {
             "outlinewidth": 0,
             "ticks": ""
            },
            "type": "mesh3d"
           }
          ],
          "parcoords": [
           {
            "line": {
             "colorbar": {
              "outlinewidth": 0,
              "ticks": ""
             }
            },
            "type": "parcoords"
           }
          ],
          "pie": [
           {
            "automargin": true,
            "type": "pie"
           }
          ],
          "scatter": [
           {
            "fillpattern": {
             "fillmode": "overlay",
             "size": 10,
             "solidity": 0.2
            },
            "type": "scatter"
           }
          ],
          "scatter3d": [
           {
            "line": {
             "colorbar": {
              "outlinewidth": 0,
              "ticks": ""
             }
            },
            "marker": {
             "colorbar": {
              "outlinewidth": 0,
              "ticks": ""
             }
            },
            "type": "scatter3d"
           }
          ],
          "scattercarpet": [
           {
            "marker": {
             "colorbar": {
              "outlinewidth": 0,
              "ticks": ""
             }
            },
            "type": "scattercarpet"
           }
          ],
          "scattergeo": [
           {
            "marker": {
             "colorbar": {
              "outlinewidth": 0,
              "ticks": ""
             }
            },
            "type": "scattergeo"
           }
          ],
          "scattergl": [
           {
            "marker": {
             "colorbar": {
              "outlinewidth": 0,
              "ticks": ""
             }
            },
            "type": "scattergl"
           }
          ],
          "scattermap": [
           {
            "marker": {
             "colorbar": {
              "outlinewidth": 0,
              "ticks": ""
             }
            },
            "type": "scattermap"
           }
          ],
          "scattermapbox": [
           {
            "marker": {
             "colorbar": {
              "outlinewidth": 0,
              "ticks": ""
             }
            },
            "type": "scattermapbox"
           }
          ],
          "scatterpolar": [
           {
            "marker": {
             "colorbar": {
              "outlinewidth": 0,
              "ticks": ""
             }
            },
            "type": "scatterpolar"
           }
          ],
          "scatterpolargl": [
           {
            "marker": {
             "colorbar": {
              "outlinewidth": 0,
              "ticks": ""
             }
            },
            "type": "scatterpolargl"
           }
          ],
          "scatterternary": [
           {
            "marker": {
             "colorbar": {
              "outlinewidth": 0,
              "ticks": ""
             }
            },
            "type": "scatterternary"
           }
          ],
          "surface": [
           {
            "colorbar": {
             "outlinewidth": 0,
             "ticks": ""
            },
            "colorscale": [
             [
              0,
              "#0d0887"
             ],
             [
              0.1111111111111111,
              "#46039f"
             ],
             [
              0.2222222222222222,
              "#7201a8"
             ],
             [
              0.3333333333333333,
              "#9c179e"
             ],
             [
              0.4444444444444444,
              "#bd3786"
             ],
             [
              0.5555555555555556,
              "#d8576b"
             ],
             [
              0.6666666666666666,
              "#ed7953"
             ],
             [
              0.7777777777777778,
              "#fb9f3a"
             ],
             [
              0.8888888888888888,
              "#fdca26"
             ],
             [
              1,
              "#f0f921"
             ]
            ],
            "type": "surface"
           }
          ],
          "table": [
           {
            "cells": {
             "fill": {
              "color": "#EBF0F8"
             },
             "line": {
              "color": "white"
             }
            },
            "header": {
             "fill": {
              "color": "#C8D4E3"
             },
             "line": {
              "color": "white"
             }
            },
            "type": "table"
           }
          ]
         },
         "layout": {
          "annotationdefaults": {
           "arrowcolor": "#2a3f5f",
           "arrowhead": 0,
           "arrowwidth": 1
          },
          "autotypenumbers": "strict",
          "coloraxis": {
           "colorbar": {
            "outlinewidth": 0,
            "ticks": ""
           }
          },
          "colorscale": {
           "diverging": [
            [
             0,
             "#8e0152"
            ],
            [
             0.1,
             "#c51b7d"
            ],
            [
             0.2,
             "#de77ae"
            ],
            [
             0.3,
             "#f1b6da"
            ],
            [
             0.4,
             "#fde0ef"
            ],
            [
             0.5,
             "#f7f7f7"
            ],
            [
             0.6,
             "#e6f5d0"
            ],
            [
             0.7,
             "#b8e186"
            ],
            [
             0.8,
             "#7fbc41"
            ],
            [
             0.9,
             "#4d9221"
            ],
            [
             1,
             "#276419"
            ]
           ],
           "sequential": [
            [
             0,
             "#0d0887"
            ],
            [
             0.1111111111111111,
             "#46039f"
            ],
            [
             0.2222222222222222,
             "#7201a8"
            ],
            [
             0.3333333333333333,
             "#9c179e"
            ],
            [
             0.4444444444444444,
             "#bd3786"
            ],
            [
             0.5555555555555556,
             "#d8576b"
            ],
            [
             0.6666666666666666,
             "#ed7953"
            ],
            [
             0.7777777777777778,
             "#fb9f3a"
            ],
            [
             0.8888888888888888,
             "#fdca26"
            ],
            [
             1,
             "#f0f921"
            ]
           ],
           "sequentialminus": [
            [
             0,
             "#0d0887"
            ],
            [
             0.1111111111111111,
             "#46039f"
            ],
            [
             0.2222222222222222,
             "#7201a8"
            ],
            [
             0.3333333333333333,
             "#9c179e"
            ],
            [
             0.4444444444444444,
             "#bd3786"
            ],
            [
             0.5555555555555556,
             "#d8576b"
            ],
            [
             0.6666666666666666,
             "#ed7953"
            ],
            [
             0.7777777777777778,
             "#fb9f3a"
            ],
            [
             0.8888888888888888,
             "#fdca26"
            ],
            [
             1,
             "#f0f921"
            ]
           ]
          },
          "colorway": [
           "#636efa",
           "#EF553B",
           "#00cc96",
           "#ab63fa",
           "#FFA15A",
           "#19d3f3",
           "#FF6692",
           "#B6E880",
           "#FF97FF",
           "#FECB52"
          ],
          "font": {
           "color": "#2a3f5f"
          },
          "geo": {
           "bgcolor": "white",
           "lakecolor": "white",
           "landcolor": "#E5ECF6",
           "showlakes": true,
           "showland": true,
           "subunitcolor": "white"
          },
          "hoverlabel": {
           "align": "left"
          },
          "hovermode": "closest",
          "mapbox": {
           "style": "light"
          },
          "paper_bgcolor": "white",
          "plot_bgcolor": "#E5ECF6",
          "polar": {
           "angularaxis": {
            "gridcolor": "white",
            "linecolor": "white",
            "ticks": ""
           },
           "bgcolor": "#E5ECF6",
           "radialaxis": {
            "gridcolor": "white",
            "linecolor": "white",
            "ticks": ""
           }
          },
          "scene": {
           "xaxis": {
            "backgroundcolor": "#E5ECF6",
            "gridcolor": "white",
            "gridwidth": 2,
            "linecolor": "white",
            "showbackground": true,
            "ticks": "",
            "zerolinecolor": "white"
           },
           "yaxis": {
            "backgroundcolor": "#E5ECF6",
            "gridcolor": "white",
            "gridwidth": 2,
            "linecolor": "white",
            "showbackground": true,
            "ticks": "",
            "zerolinecolor": "white"
           },
           "zaxis": {
            "backgroundcolor": "#E5ECF6",
            "gridcolor": "white",
            "gridwidth": 2,
            "linecolor": "white",
            "showbackground": true,
            "ticks": "",
            "zerolinecolor": "white"
           }
          },
          "shapedefaults": {
           "line": {
            "color": "#2a3f5f"
           }
          },
          "ternary": {
           "aaxis": {
            "gridcolor": "white",
            "linecolor": "white",
            "ticks": ""
           },
           "baxis": {
            "gridcolor": "white",
            "linecolor": "white",
            "ticks": ""
           },
           "bgcolor": "#E5ECF6",
           "caxis": {
            "gridcolor": "white",
            "linecolor": "white",
            "ticks": ""
           }
          },
          "title": {
           "x": 0.05
          },
          "xaxis": {
           "automargin": true,
           "gridcolor": "white",
           "linecolor": "white",
           "ticks": "",
           "title": {
            "standoff": 15
           },
           "zerolinecolor": "white",
           "zerolinewidth": 2
          },
          "yaxis": {
           "automargin": true,
           "gridcolor": "white",
           "linecolor": "white",
           "ticks": "",
           "title": {
            "standoff": 15
           },
           "zerolinecolor": "white",
           "zerolinewidth": 2
          }
         }
        },
        "title": {
         "font": {
          "color": "#323232",
          "family": "serif",
          "size": 20,
          "weight": "bold"
         },
         "text": "Tỷ lệ chuyển đổi theo ngày từ View sang Purchase"
        },
        "xaxis": {
         "showgrid": false,
         "tickvals": [
          "1",
          "2",
          "3",
          "4",
          "5",
          "6",
          "7",
          "8",
          "9",
          "10",
          "11",
          "12",
          "13",
          "14",
          "15",
          "16",
          "17",
          "18",
          "19",
          "20",
          "21",
          "22",
          "23",
          "24",
          "25",
          "26",
          "27",
          "28",
          "29",
          "30",
          "31"
         ],
         "title": {
          "text": "Ngày"
         }
        },
        "yaxis": {
         "gridcolor": "gray",
         "gridwidth": 0.5,
         "showgrid": true,
         "tickformat": ".2%",
         "title": {
          "text": "Tỷ lệ chuyển đổi"
         }
        }
       }
      }
     },
     "metadata": {},
     "output_type": "display_data"
    }
   ],
   "source": [
    "days = conversion_by_day.index.astype(str)\n",
    "rates = conversion_by_day.round(2).values / 100\n",
    "\n",
    "fig = go.Figure()\n",
    "\n",
    "fig.add_trace(go.Bar(\n",
    "    x=days,\n",
    "    y=rates,\n",
    "    name='Tỷ lệ chuyển đổi',\n",
    "    marker_color='#0e4f66',\n",
    "    width=0.4,\n",
    "))\n",
    "\n",
    "fig.add_trace(go.Scatter(\n",
    "    x=days,\n",
    "    y=rates,\n",
    "    mode='lines+markers',\n",
    "    name='Đường xu hướng',\n",
    "    line=dict(color=\"gray\", width=2.5),\n",
    "    marker=dict(color=\"gray\", size=8),\n",
    "))\n",
    "\n",
    "fig.update_layout(\n",
    "    title='Tỷ lệ chuyển đổi theo ngày từ View sang Purchase',\n",
    "    title_font=dict(size=20, family=\"serif\", color=\"#323232\", weight=\"bold\"),  \n",
    "    yaxis_tickformat=\".2%\",\n",
    "    xaxis_title=\"Ngày\",\n",
    "    yaxis_title=\"Tỷ lệ chuyển đổi\",\n",
    "    plot_bgcolor=\"#fbfbfb\",\n",
    "    font=dict(family=\"Arial, sans-serif\"),\n",
    "    xaxis=dict(showgrid=False),\n",
    "    yaxis=dict(showgrid=True, gridcolor='gray', gridwidth=0.5),\n",
    "    xaxis_tickvals=days,  \n",
    ")\n",
    "\n",
    "fig.show()"
   ]
  },
  {
   "cell_type": "markdown",
   "id": "2bcac06a",
   "metadata": {},
   "source": [
    "- Tỷ lệ chuyển đổi hàng ngày dao động quanh mức `4.2% – 5.1%`\n",
    "→ Mức chuyển đổi `khá ổn định`, không có ngày nào giảm mạnh đột ngột.\n",
    "\n",
    "- `Ngày 8` và `ngày 18` có tỷ lệ `cao nhất` (~4.96 – 5.14%)\n",
    "→ Có thể trùng với dịp khuyến mãi, quảng cáo mạnh hoặc chiến dịch hiệu quả.\n",
    "\n",
    "- Một vài ngày có dấu hiệu `giảm nhẹ` như ngày `3, 15, 23 và 29` (~4.2%)\n",
    "→ Nên kiểm tra lại chiến lược nội dung hoặc quảng cáo trong các ngày này."
   ]
  },
  {
   "cell_type": "markdown",
   "id": "582c1b67",
   "metadata": {},
   "source": [
    "#### Conversion rate theo giờ trong ngày"
   ]
  },
  {
   "cell_type": "code",
   "execution_count": 56,
   "id": "49fcc82e",
   "metadata": {},
   "outputs": [
    {
     "name": "stdout",
     "output_type": "stream",
     "text": [
      "Tỷ lệ chuyển đổi theo giờ trong ngày:\n",
      " hour  Conversion Rate (%)\n",
      "    0                 3.86\n",
      "    1                 3.61\n",
      "    2                 3.97\n",
      "    3                 4.17\n",
      "    4                 4.14\n",
      "    5                 4.35\n",
      "    6                 4.77\n",
      "    7                 4.76\n",
      "    8                 4.96\n",
      "    9                 5.29\n",
      "   10                 5.38\n",
      "   11                 5.24\n",
      "   12                 4.86\n",
      "   13                 4.77\n",
      "   14                 4.89\n",
      "   15                 4.46\n",
      "   16                 4.48\n",
      "   17                 4.48\n",
      "   18                 4.27\n",
      "   19                 4.73\n",
      "   20                 4.61\n",
      "   21                 4.45\n",
      "   22                 4.54\n",
      "   23                 4.32\n"
     ]
    }
   ],
   "source": [
    "print(\"Tỷ lệ chuyển đổi theo giờ trong ngày:\")\n",
    "print(conversion_by_hour.round(2).reset_index(name='Conversion Rate (%)').to_string(index=False))"
   ]
  },
  {
   "cell_type": "code",
   "execution_count": 57,
   "id": "726967f3",
   "metadata": {},
   "outputs": [
    {
     "data": {
      "application/vnd.plotly.v1+json": {
       "config": {
        "plotlyServerURL": "https://plot.ly"
       },
       "data": [
        {
         "line": {
          "color": "#0e4f66",
          "width": 2.5
         },
         "marker": {
          "color": "#0e4f66",
          "size": 8
         },
         "mode": "lines+markers",
         "name": "Tỷ lệ chuyển đổi",
         "type": "scatter",
         "x": [
          "0",
          "1",
          "2",
          "3",
          "4",
          "5",
          "6",
          "7",
          "8",
          "9",
          "10",
          "11",
          "12",
          "13",
          "14",
          "15",
          "16",
          "17",
          "18",
          "19",
          "20",
          "21",
          "22",
          "23"
         ],
         "y": {
          "bdata": "pE5AE2HDoz9dbcX+snuiPxZqTfOOU6Q/toR80LNZpT9R2ht8YTKlPxKDwMqhRaY/lNQJaCJsqD9zRpT2Bl+oPxNhw9MrZak/aLPqc7UVqz+WsgxxrIurP8Dsnjws1Ko/xNMrZRniqD+U1AloImyoPyh+jLlrCak/hJ7Nqs/Vpj/IuriNBvCmP8i6uI0G8KY/BRIUP8bcpT8PnDOitDeoP3zysFBrmqc/YxBYObTIpj+RD3o2qz6nP67YX3ZPHqY/",
          "dtype": "f8"
         }
        }
       ],
       "layout": {
        "font": {
         "family": "Arial, sans-serif"
        },
        "plot_bgcolor": "#fbfbfb",
        "template": {
         "data": {
          "bar": [
           {
            "error_x": {
             "color": "#2a3f5f"
            },
            "error_y": {
             "color": "#2a3f5f"
            },
            "marker": {
             "line": {
              "color": "#E5ECF6",
              "width": 0.5
             },
             "pattern": {
              "fillmode": "overlay",
              "size": 10,
              "solidity": 0.2
             }
            },
            "type": "bar"
           }
          ],
          "barpolar": [
           {
            "marker": {
             "line": {
              "color": "#E5ECF6",
              "width": 0.5
             },
             "pattern": {
              "fillmode": "overlay",
              "size": 10,
              "solidity": 0.2
             }
            },
            "type": "barpolar"
           }
          ],
          "carpet": [
           {
            "aaxis": {
             "endlinecolor": "#2a3f5f",
             "gridcolor": "white",
             "linecolor": "white",
             "minorgridcolor": "white",
             "startlinecolor": "#2a3f5f"
            },
            "baxis": {
             "endlinecolor": "#2a3f5f",
             "gridcolor": "white",
             "linecolor": "white",
             "minorgridcolor": "white",
             "startlinecolor": "#2a3f5f"
            },
            "type": "carpet"
           }
          ],
          "choropleth": [
           {
            "colorbar": {
             "outlinewidth": 0,
             "ticks": ""
            },
            "type": "choropleth"
           }
          ],
          "contour": [
           {
            "colorbar": {
             "outlinewidth": 0,
             "ticks": ""
            },
            "colorscale": [
             [
              0,
              "#0d0887"
             ],
             [
              0.1111111111111111,
              "#46039f"
             ],
             [
              0.2222222222222222,
              "#7201a8"
             ],
             [
              0.3333333333333333,
              "#9c179e"
             ],
             [
              0.4444444444444444,
              "#bd3786"
             ],
             [
              0.5555555555555556,
              "#d8576b"
             ],
             [
              0.6666666666666666,
              "#ed7953"
             ],
             [
              0.7777777777777778,
              "#fb9f3a"
             ],
             [
              0.8888888888888888,
              "#fdca26"
             ],
             [
              1,
              "#f0f921"
             ]
            ],
            "type": "contour"
           }
          ],
          "contourcarpet": [
           {
            "colorbar": {
             "outlinewidth": 0,
             "ticks": ""
            },
            "type": "contourcarpet"
           }
          ],
          "heatmap": [
           {
            "colorbar": {
             "outlinewidth": 0,
             "ticks": ""
            },
            "colorscale": [
             [
              0,
              "#0d0887"
             ],
             [
              0.1111111111111111,
              "#46039f"
             ],
             [
              0.2222222222222222,
              "#7201a8"
             ],
             [
              0.3333333333333333,
              "#9c179e"
             ],
             [
              0.4444444444444444,
              "#bd3786"
             ],
             [
              0.5555555555555556,
              "#d8576b"
             ],
             [
              0.6666666666666666,
              "#ed7953"
             ],
             [
              0.7777777777777778,
              "#fb9f3a"
             ],
             [
              0.8888888888888888,
              "#fdca26"
             ],
             [
              1,
              "#f0f921"
             ]
            ],
            "type": "heatmap"
           }
          ],
          "histogram": [
           {
            "marker": {
             "pattern": {
              "fillmode": "overlay",
              "size": 10,
              "solidity": 0.2
             }
            },
            "type": "histogram"
           }
          ],
          "histogram2d": [
           {
            "colorbar": {
             "outlinewidth": 0,
             "ticks": ""
            },
            "colorscale": [
             [
              0,
              "#0d0887"
             ],
             [
              0.1111111111111111,
              "#46039f"
             ],
             [
              0.2222222222222222,
              "#7201a8"
             ],
             [
              0.3333333333333333,
              "#9c179e"
             ],
             [
              0.4444444444444444,
              "#bd3786"
             ],
             [
              0.5555555555555556,
              "#d8576b"
             ],
             [
              0.6666666666666666,
              "#ed7953"
             ],
             [
              0.7777777777777778,
              "#fb9f3a"
             ],
             [
              0.8888888888888888,
              "#fdca26"
             ],
             [
              1,
              "#f0f921"
             ]
            ],
            "type": "histogram2d"
           }
          ],
          "histogram2dcontour": [
           {
            "colorbar": {
             "outlinewidth": 0,
             "ticks": ""
            },
            "colorscale": [
             [
              0,
              "#0d0887"
             ],
             [
              0.1111111111111111,
              "#46039f"
             ],
             [
              0.2222222222222222,
              "#7201a8"
             ],
             [
              0.3333333333333333,
              "#9c179e"
             ],
             [
              0.4444444444444444,
              "#bd3786"
             ],
             [
              0.5555555555555556,
              "#d8576b"
             ],
             [
              0.6666666666666666,
              "#ed7953"
             ],
             [
              0.7777777777777778,
              "#fb9f3a"
             ],
             [
              0.8888888888888888,
              "#fdca26"
             ],
             [
              1,
              "#f0f921"
             ]
            ],
            "type": "histogram2dcontour"
           }
          ],
          "mesh3d": [
           {
            "colorbar": {
             "outlinewidth": 0,
             "ticks": ""
            },
            "type": "mesh3d"
           }
          ],
          "parcoords": [
           {
            "line": {
             "colorbar": {
              "outlinewidth": 0,
              "ticks": ""
             }
            },
            "type": "parcoords"
           }
          ],
          "pie": [
           {
            "automargin": true,
            "type": "pie"
           }
          ],
          "scatter": [
           {
            "fillpattern": {
             "fillmode": "overlay",
             "size": 10,
             "solidity": 0.2
            },
            "type": "scatter"
           }
          ],
          "scatter3d": [
           {
            "line": {
             "colorbar": {
              "outlinewidth": 0,
              "ticks": ""
             }
            },
            "marker": {
             "colorbar": {
              "outlinewidth": 0,
              "ticks": ""
             }
            },
            "type": "scatter3d"
           }
          ],
          "scattercarpet": [
           {
            "marker": {
             "colorbar": {
              "outlinewidth": 0,
              "ticks": ""
             }
            },
            "type": "scattercarpet"
           }
          ],
          "scattergeo": [
           {
            "marker": {
             "colorbar": {
              "outlinewidth": 0,
              "ticks": ""
             }
            },
            "type": "scattergeo"
           }
          ],
          "scattergl": [
           {
            "marker": {
             "colorbar": {
              "outlinewidth": 0,
              "ticks": ""
             }
            },
            "type": "scattergl"
           }
          ],
          "scattermap": [
           {
            "marker": {
             "colorbar": {
              "outlinewidth": 0,
              "ticks": ""
             }
            },
            "type": "scattermap"
           }
          ],
          "scattermapbox": [
           {
            "marker": {
             "colorbar": {
              "outlinewidth": 0,
              "ticks": ""
             }
            },
            "type": "scattermapbox"
           }
          ],
          "scatterpolar": [
           {
            "marker": {
             "colorbar": {
              "outlinewidth": 0,
              "ticks": ""
             }
            },
            "type": "scatterpolar"
           }
          ],
          "scatterpolargl": [
           {
            "marker": {
             "colorbar": {
              "outlinewidth": 0,
              "ticks": ""
             }
            },
            "type": "scatterpolargl"
           }
          ],
          "scatterternary": [
           {
            "marker": {
             "colorbar": {
              "outlinewidth": 0,
              "ticks": ""
             }
            },
            "type": "scatterternary"
           }
          ],
          "surface": [
           {
            "colorbar": {
             "outlinewidth": 0,
             "ticks": ""
            },
            "colorscale": [
             [
              0,
              "#0d0887"
             ],
             [
              0.1111111111111111,
              "#46039f"
             ],
             [
              0.2222222222222222,
              "#7201a8"
             ],
             [
              0.3333333333333333,
              "#9c179e"
             ],
             [
              0.4444444444444444,
              "#bd3786"
             ],
             [
              0.5555555555555556,
              "#d8576b"
             ],
             [
              0.6666666666666666,
              "#ed7953"
             ],
             [
              0.7777777777777778,
              "#fb9f3a"
             ],
             [
              0.8888888888888888,
              "#fdca26"
             ],
             [
              1,
              "#f0f921"
             ]
            ],
            "type": "surface"
           }
          ],
          "table": [
           {
            "cells": {
             "fill": {
              "color": "#EBF0F8"
             },
             "line": {
              "color": "white"
             }
            },
            "header": {
             "fill": {
              "color": "#C8D4E3"
             },
             "line": {
              "color": "white"
             }
            },
            "type": "table"
           }
          ]
         },
         "layout": {
          "annotationdefaults": {
           "arrowcolor": "#2a3f5f",
           "arrowhead": 0,
           "arrowwidth": 1
          },
          "autotypenumbers": "strict",
          "coloraxis": {
           "colorbar": {
            "outlinewidth": 0,
            "ticks": ""
           }
          },
          "colorscale": {
           "diverging": [
            [
             0,
             "#8e0152"
            ],
            [
             0.1,
             "#c51b7d"
            ],
            [
             0.2,
             "#de77ae"
            ],
            [
             0.3,
             "#f1b6da"
            ],
            [
             0.4,
             "#fde0ef"
            ],
            [
             0.5,
             "#f7f7f7"
            ],
            [
             0.6,
             "#e6f5d0"
            ],
            [
             0.7,
             "#b8e186"
            ],
            [
             0.8,
             "#7fbc41"
            ],
            [
             0.9,
             "#4d9221"
            ],
            [
             1,
             "#276419"
            ]
           ],
           "sequential": [
            [
             0,
             "#0d0887"
            ],
            [
             0.1111111111111111,
             "#46039f"
            ],
            [
             0.2222222222222222,
             "#7201a8"
            ],
            [
             0.3333333333333333,
             "#9c179e"
            ],
            [
             0.4444444444444444,
             "#bd3786"
            ],
            [
             0.5555555555555556,
             "#d8576b"
            ],
            [
             0.6666666666666666,
             "#ed7953"
            ],
            [
             0.7777777777777778,
             "#fb9f3a"
            ],
            [
             0.8888888888888888,
             "#fdca26"
            ],
            [
             1,
             "#f0f921"
            ]
           ],
           "sequentialminus": [
            [
             0,
             "#0d0887"
            ],
            [
             0.1111111111111111,
             "#46039f"
            ],
            [
             0.2222222222222222,
             "#7201a8"
            ],
            [
             0.3333333333333333,
             "#9c179e"
            ],
            [
             0.4444444444444444,
             "#bd3786"
            ],
            [
             0.5555555555555556,
             "#d8576b"
            ],
            [
             0.6666666666666666,
             "#ed7953"
            ],
            [
             0.7777777777777778,
             "#fb9f3a"
            ],
            [
             0.8888888888888888,
             "#fdca26"
            ],
            [
             1,
             "#f0f921"
            ]
           ]
          },
          "colorway": [
           "#636efa",
           "#EF553B",
           "#00cc96",
           "#ab63fa",
           "#FFA15A",
           "#19d3f3",
           "#FF6692",
           "#B6E880",
           "#FF97FF",
           "#FECB52"
          ],
          "font": {
           "color": "#2a3f5f"
          },
          "geo": {
           "bgcolor": "white",
           "lakecolor": "white",
           "landcolor": "#E5ECF6",
           "showlakes": true,
           "showland": true,
           "subunitcolor": "white"
          },
          "hoverlabel": {
           "align": "left"
          },
          "hovermode": "closest",
          "mapbox": {
           "style": "light"
          },
          "paper_bgcolor": "white",
          "plot_bgcolor": "#E5ECF6",
          "polar": {
           "angularaxis": {
            "gridcolor": "white",
            "linecolor": "white",
            "ticks": ""
           },
           "bgcolor": "#E5ECF6",
           "radialaxis": {
            "gridcolor": "white",
            "linecolor": "white",
            "ticks": ""
           }
          },
          "scene": {
           "xaxis": {
            "backgroundcolor": "#E5ECF6",
            "gridcolor": "white",
            "gridwidth": 2,
            "linecolor": "white",
            "showbackground": true,
            "ticks": "",
            "zerolinecolor": "white"
           },
           "yaxis": {
            "backgroundcolor": "#E5ECF6",
            "gridcolor": "white",
            "gridwidth": 2,
            "linecolor": "white",
            "showbackground": true,
            "ticks": "",
            "zerolinecolor": "white"
           },
           "zaxis": {
            "backgroundcolor": "#E5ECF6",
            "gridcolor": "white",
            "gridwidth": 2,
            "linecolor": "white",
            "showbackground": true,
            "ticks": "",
            "zerolinecolor": "white"
           }
          },
          "shapedefaults": {
           "line": {
            "color": "#2a3f5f"
           }
          },
          "ternary": {
           "aaxis": {
            "gridcolor": "white",
            "linecolor": "white",
            "ticks": ""
           },
           "baxis": {
            "gridcolor": "white",
            "linecolor": "white",
            "ticks": ""
           },
           "bgcolor": "#E5ECF6",
           "caxis": {
            "gridcolor": "white",
            "linecolor": "white",
            "ticks": ""
           }
          },
          "title": {
           "x": 0.05
          },
          "xaxis": {
           "automargin": true,
           "gridcolor": "white",
           "linecolor": "white",
           "ticks": "",
           "title": {
            "standoff": 15
           },
           "zerolinecolor": "white",
           "zerolinewidth": 2
          },
          "yaxis": {
           "automargin": true,
           "gridcolor": "white",
           "linecolor": "white",
           "ticks": "",
           "title": {
            "standoff": 15
           },
           "zerolinecolor": "white",
           "zerolinewidth": 2
          }
         }
        },
        "title": {
         "font": {
          "color": "#323232",
          "family": "serif",
          "size": 20,
          "weight": "bold"
         },
         "text": "Tỷ lệ chuyển đổi theo giờ trong ngày"
        },
        "xaxis": {
         "showgrid": false,
         "tickvals": [
          "0",
          "1",
          "2",
          "3",
          "4",
          "5",
          "6",
          "7",
          "8",
          "9",
          "10",
          "11",
          "12",
          "13",
          "14",
          "15",
          "16",
          "17",
          "18",
          "19",
          "20",
          "21",
          "22",
          "23"
         ],
         "title": {
          "text": "Giờ trong ngày"
         }
        },
        "yaxis": {
         "gridcolor": "gray",
         "gridwidth": 0.5,
         "showgrid": true,
         "tickformat": ".2%",
         "title": {
          "text": "Tỷ lệ chuyển đổi"
         }
        }
       }
      }
     },
     "metadata": {},
     "output_type": "display_data"
    }
   ],
   "source": [
    "hours = conversion_by_hour.index.astype(str)\n",
    "rates = conversion_by_hour.round(2).values / 100\n",
    "\n",
    "fig = go.Figure()\n",
    "\n",
    "fig.add_trace(go.Scatter(\n",
    "    x=hours,\n",
    "    y=rates,\n",
    "    mode='lines+markers',\n",
    "    name='Tỷ lệ chuyển đổi',\n",
    "    line=dict(color=\"#0e4f66\", width=2.5),\n",
    "    marker=dict(color=\"#0e4f66\", size=8),\n",
    "))\n",
    "\n",
    "fig.update_layout(\n",
    "    title='Tỷ lệ chuyển đổi theo giờ trong ngày',\n",
    "    title_font=dict(size=20, family=\"serif\", color=\"#323232\", weight=\"bold\"),  \n",
    "    yaxis_tickformat=\".2%\",  \n",
    "    xaxis_title=\"Giờ trong ngày\",\n",
    "    yaxis_title=\"Tỷ lệ chuyển đổi\",\n",
    "    plot_bgcolor=\"#fbfbfb\",\n",
    "    font=dict(family=\"Arial, sans-serif\"),\n",
    "    xaxis=dict(showgrid=False),\n",
    "    yaxis=dict(showgrid=True, gridcolor='gray', gridwidth=0.5),\n",
    "    xaxis_tickvals=hours,  \n",
    ")\n",
    "\n",
    "fig.show()"
   ]
  },
  {
   "cell_type": "markdown",
   "id": "06b33848",
   "metadata": {},
   "source": [
    "- Tỷ lệ chuyển đổi `thấp nhất` xảy ra vào khoảng `1 giờ sáng` (~3.61%).\n",
    "\n",
    "- Tỷ lệ chuyển đổi `cao nhất` rơi vào khoảng `10 giờ sáng` (~5.38%).\n",
    "\n",
    "- `Sau 10h sáng`, tỷ lệ bắt đầu `giảm dần`, dao động nhẹ vào buổi chiều và tối.\n",
    "\n",
    "- Từ `16h đến 23h`, tỷ lệ `ổn định` quanh mức ~4.4–4.7%, không có biến động mạnh.\n",
    "\n",
    "Ta có thể rút ra rằng sáng từ `6h–11h` là `thời điểm \"vàng\"` để tối ưu chuyển đổi, từ đó xây dựng chiến lược nắm bắt thời cơ vào thời gian này"
   ]
  },
  {
   "cell_type": "markdown",
   "id": "311b8729",
   "metadata": {},
   "source": [
    "### Những sản phẩm nào có Conversion Rate cao nhất và thấp nhất?"
   ]
  },
  {
   "cell_type": "code",
   "execution_count": 58,
   "id": "600c842a",
   "metadata": {},
   "outputs": [
    {
     "data": {
      "text/html": [
       "<div>\n",
       "<style scoped>\n",
       "    .dataframe tbody tr th:only-of-type {\n",
       "        vertical-align: middle;\n",
       "    }\n",
       "\n",
       "    .dataframe tbody tr th {\n",
       "        vertical-align: top;\n",
       "    }\n",
       "\n",
       "    .dataframe thead th {\n",
       "        text-align: right;\n",
       "    }\n",
       "</style>\n",
       "<table border=\"1\" class=\"dataframe\">\n",
       "  <thead>\n",
       "    <tr style=\"text-align: right;\">\n",
       "      <th>event_type</th>\n",
       "      <th>cart</th>\n",
       "      <th>purchase</th>\n",
       "      <th>view</th>\n",
       "    </tr>\n",
       "    <tr>\n",
       "      <th>product_id</th>\n",
       "      <th></th>\n",
       "      <th></th>\n",
       "      <th></th>\n",
       "    </tr>\n",
       "  </thead>\n",
       "  <tbody>\n",
       "    <tr>\n",
       "      <th>102</th>\n",
       "      <td>3</td>\n",
       "      <td>5</td>\n",
       "      <td>19</td>\n",
       "    </tr>\n",
       "    <tr>\n",
       "      <th>105</th>\n",
       "      <td>10</td>\n",
       "      <td>3</td>\n",
       "      <td>664</td>\n",
       "    </tr>\n",
       "    <tr>\n",
       "      <th>109</th>\n",
       "      <td>0</td>\n",
       "      <td>0</td>\n",
       "      <td>42</td>\n",
       "    </tr>\n",
       "    <tr>\n",
       "      <th>526</th>\n",
       "      <td>4</td>\n",
       "      <td>5</td>\n",
       "      <td>30</td>\n",
       "    </tr>\n",
       "    <tr>\n",
       "      <th>561</th>\n",
       "      <td>0</td>\n",
       "      <td>0</td>\n",
       "      <td>2</td>\n",
       "    </tr>\n",
       "    <tr>\n",
       "      <th>...</th>\n",
       "      <td>...</td>\n",
       "      <td>...</td>\n",
       "      <td>...</td>\n",
       "    </tr>\n",
       "    <tr>\n",
       "      <th>4183875</th>\n",
       "      <td>20</td>\n",
       "      <td>7</td>\n",
       "      <td>183</td>\n",
       "    </tr>\n",
       "    <tr>\n",
       "      <th>4183876</th>\n",
       "      <td>1</td>\n",
       "      <td>0</td>\n",
       "      <td>16</td>\n",
       "    </tr>\n",
       "    <tr>\n",
       "      <th>4183877</th>\n",
       "      <td>1</td>\n",
       "      <td>0</td>\n",
       "      <td>6</td>\n",
       "    </tr>\n",
       "    <tr>\n",
       "      <th>4183878</th>\n",
       "      <td>0</td>\n",
       "      <td>0</td>\n",
       "      <td>6</td>\n",
       "    </tr>\n",
       "    <tr>\n",
       "      <th>4183880</th>\n",
       "      <td>4</td>\n",
       "      <td>2</td>\n",
       "      <td>81</td>\n",
       "    </tr>\n",
       "  </tbody>\n",
       "</table>\n",
       "<p>53452 rows × 3 columns</p>\n",
       "</div>"
      ],
      "text/plain": [
       "event_type  cart  purchase  view\n",
       "product_id                      \n",
       "102            3         5    19\n",
       "105           10         3   664\n",
       "109            0         0    42\n",
       "526            4         5    30\n",
       "561            0         0     2\n",
       "...          ...       ...   ...\n",
       "4183875       20         7   183\n",
       "4183876        1         0    16\n",
       "4183877        1         0     6\n",
       "4183878        0         0     6\n",
       "4183880        4         2    81\n",
       "\n",
       "[53452 rows x 3 columns]"
      ]
     },
     "execution_count": 58,
     "metadata": {},
     "output_type": "execute_result"
    }
   ],
   "source": [
    "events_by_product_0 = data.groupby([\"product_id\", \"event_type\"]).size().unstack(fill_value=0)\n",
    "events_by_product_0"
   ]
  },
  {
   "cell_type": "code",
   "execution_count": 59,
   "id": "60a38fe9",
   "metadata": {},
   "outputs": [
    {
     "name": "stdout",
     "output_type": "stream",
     "text": [
      "Minimum views: 1\n",
      "Maximum views: 12804\n",
      "Average views: 14.85\n"
     ]
    }
   ],
   "source": [
    "views_data = data[data['event_type'] == 'view']\n",
    "\n",
    "views_per_product = views_data.groupby('product_id').size()\n",
    "\n",
    "min_views = views_per_product.min()\n",
    "max_views = views_per_product.max()\n",
    "avg_views = views_per_product.mean()\n",
    "\n",
    "print(f\"Minimum views: {min_views}\")\n",
    "print(f\"Maximum views: {max_views}\")\n",
    "print(f\"Average views: {avg_views:.2f}\")"
   ]
  },
  {
   "cell_type": "markdown",
   "id": "c1ff7078",
   "metadata": {},
   "source": [
    "Để tránh bị nhiễu, chỉ tính tỷ lệ chuyển đổi đối với những sản phẩm có số lượng xem lớn hơn 14:"
   ]
  },
  {
   "cell_type": "code",
   "execution_count": 60,
   "id": "b5e2dda5",
   "metadata": {},
   "outputs": [
    {
     "name": "stderr",
     "output_type": "stream",
     "text": [
      "C:\\Users\\ntnh\\AppData\\Local\\Temp\\ipykernel_17364\\2162447745.py:3: SettingWithCopyWarning:\n",
      "\n",
      "\n",
      "A value is trying to be set on a copy of a slice from a DataFrame.\n",
      "Try using .loc[row_indexer,col_indexer] = value instead\n",
      "\n",
      "See the caveats in the documentation: https://pandas.pydata.org/pandas-docs/stable/user_guide/indexing.html#returning-a-view-versus-a-copy\n",
      "\n",
      "C:\\Users\\ntnh\\AppData\\Local\\Temp\\ipykernel_17364\\2162447745.py:4: SettingWithCopyWarning:\n",
      "\n",
      "\n",
      "A value is trying to be set on a copy of a slice from a DataFrame\n",
      "\n",
      "See the caveats in the documentation: https://pandas.pydata.org/pandas-docs/stable/user_guide/indexing.html#returning-a-view-versus-a-copy\n",
      "\n"
     ]
    },
    {
     "data": {
      "text/html": [
       "<div>\n",
       "<style scoped>\n",
       "    .dataframe tbody tr th:only-of-type {\n",
       "        vertical-align: middle;\n",
       "    }\n",
       "\n",
       "    .dataframe tbody tr th {\n",
       "        vertical-align: top;\n",
       "    }\n",
       "\n",
       "    .dataframe thead th {\n",
       "        text-align: right;\n",
       "    }\n",
       "</style>\n",
       "<table border=\"1\" class=\"dataframe\">\n",
       "  <thead>\n",
       "    <tr style=\"text-align: right;\">\n",
       "      <th>event_type</th>\n",
       "      <th>cart</th>\n",
       "      <th>purchase</th>\n",
       "      <th>view</th>\n",
       "      <th>conversion_rate</th>\n",
       "    </tr>\n",
       "    <tr>\n",
       "      <th>product_id</th>\n",
       "      <th></th>\n",
       "      <th></th>\n",
       "      <th></th>\n",
       "      <th></th>\n",
       "    </tr>\n",
       "  </thead>\n",
       "  <tbody>\n",
       "    <tr>\n",
       "      <th>4102339</th>\n",
       "      <td>8</td>\n",
       "      <td>17</td>\n",
       "      <td>19</td>\n",
       "      <td>0.894737</td>\n",
       "    </tr>\n",
       "    <tr>\n",
       "      <th>3657591</th>\n",
       "      <td>6</td>\n",
       "      <td>22</td>\n",
       "      <td>25</td>\n",
       "      <td>0.880000</td>\n",
       "    </tr>\n",
       "    <tr>\n",
       "      <th>4102337</th>\n",
       "      <td>9</td>\n",
       "      <td>18</td>\n",
       "      <td>21</td>\n",
       "      <td>0.857143</td>\n",
       "    </tr>\n",
       "    <tr>\n",
       "      <th>478332</th>\n",
       "      <td>11</td>\n",
       "      <td>17</td>\n",
       "      <td>24</td>\n",
       "      <td>0.708333</td>\n",
       "    </tr>\n",
       "    <tr>\n",
       "      <th>4102332</th>\n",
       "      <td>8</td>\n",
       "      <td>17</td>\n",
       "      <td>24</td>\n",
       "      <td>0.708333</td>\n",
       "    </tr>\n",
       "    <tr>\n",
       "      <th>...</th>\n",
       "      <td>...</td>\n",
       "      <td>...</td>\n",
       "      <td>...</td>\n",
       "      <td>...</td>\n",
       "    </tr>\n",
       "    <tr>\n",
       "      <th>658830</th>\n",
       "      <td>0</td>\n",
       "      <td>0</td>\n",
       "      <td>30</td>\n",
       "      <td>0.000000</td>\n",
       "    </tr>\n",
       "    <tr>\n",
       "      <th>1521850</th>\n",
       "      <td>0</td>\n",
       "      <td>0</td>\n",
       "      <td>41</td>\n",
       "      <td>0.000000</td>\n",
       "    </tr>\n",
       "    <tr>\n",
       "      <th>1521834</th>\n",
       "      <td>3</td>\n",
       "      <td>0</td>\n",
       "      <td>24</td>\n",
       "      <td>0.000000</td>\n",
       "    </tr>\n",
       "    <tr>\n",
       "      <th>1521764</th>\n",
       "      <td>0</td>\n",
       "      <td>0</td>\n",
       "      <td>17</td>\n",
       "      <td>0.000000</td>\n",
       "    </tr>\n",
       "    <tr>\n",
       "      <th>1747816</th>\n",
       "      <td>0</td>\n",
       "      <td>0</td>\n",
       "      <td>52</td>\n",
       "      <td>0.000000</td>\n",
       "    </tr>\n",
       "  </tbody>\n",
       "</table>\n",
       "<p>8877 rows × 4 columns</p>\n",
       "</div>"
      ],
      "text/plain": [
       "event_type  cart  purchase  view  conversion_rate\n",
       "product_id                                       \n",
       "4102339        8        17    19         0.894737\n",
       "3657591        6        22    25         0.880000\n",
       "4102337        9        18    21         0.857143\n",
       "478332        11        17    24         0.708333\n",
       "4102332        8        17    24         0.708333\n",
       "...          ...       ...   ...              ...\n",
       "658830         0         0    30         0.000000\n",
       "1521850        0         0    41         0.000000\n",
       "1521834        3         0    24         0.000000\n",
       "1521764        0         0    17         0.000000\n",
       "1747816        0         0    52         0.000000\n",
       "\n",
       "[8877 rows x 4 columns]"
      ]
     },
     "execution_count": 60,
     "metadata": {},
     "output_type": "execute_result"
    }
   ],
   "source": [
    "events_by_product = events_by_product_0[events_by_product_0[\"view\"] > 14]\n",
    "\n",
    "events_by_product[\"conversion_rate\"] = events_by_product[\"purchase\"] / events_by_product[\"view\"]\n",
    "events_by_product.sort_values(by=\"conversion_rate\", ascending=False, inplace=True)\n",
    "events_by_product"
   ]
  },
  {
   "cell_type": "code",
   "execution_count": 96,
   "id": "454d7580",
   "metadata": {},
   "outputs": [],
   "source": [
    "top_products = events_by_product.sort_values(by=\"conversion_rate\", ascending=False).head(5)\n",
    "bottom_products = events_by_product.sort_values(by=\"conversion_rate\", ascending=True).head(5)"
   ]
  },
  {
   "cell_type": "code",
   "execution_count": 100,
   "id": "3e659c73",
   "metadata": {},
   "outputs": [
    {
     "data": {
      "image/png": "[encoded data removed]",
      "text/plain": [
       "<Figure size 1600x600 with 2 Axes>"
      ]
     },
     "metadata": {},
     "output_type": "display_data"
    }
   ],
   "source": [
    "top_products.index = top_products.index.astype(str)\n",
    "bottom_products.index = bottom_products.index.astype(str)\n",
    "\n",
    "plt.figure(figsize=(16, 6))  \n",
    "\n",
    "# Plot 1: Top 5\n",
    "plt.subplot(1, 2, 1)\n",
    "bars1 = plt.bar(top_products.index, top_products['conversion_rate'], color='#0e4f66')\n",
    "plt.title('Top 5 Products by Conversion Rate')\n",
    "plt.xlabel('Product ID')\n",
    "plt.ylabel('Conversion Rate')\n",
    "plt.xticks(rotation=45)\n",
    "plt.grid(axis='y', linestyle='--', alpha=0.7)\n",
    "\n",
    "for bar in bars1:\n",
    "    height = bar.get_height()\n",
    "    plt.text(bar.get_x() + bar.get_width() / 2, height, f'{height:.2f}', ha='center', va='bottom')\n",
    "\n",
    "# Plot 1: Bottom 5\n",
    "plt.subplot(1, 2, 2)\n",
    "bars2 = plt.bar(bottom_products.index, bottom_products['conversion_rate'], color='#0e4f66')\n",
    "plt.title('Bottom 5 Products by Conversion Rate')\n",
    "plt.xlabel('Product ID')\n",
    "plt.ylabel('Conversion Rate')\n",
    "plt.xticks(rotation=45)\n",
    "plt.grid(axis='y', linestyle='--', alpha=0.7)\n",
    "\n",
    "for bar in bars2:\n",
    "    height = bar.get_height()\n",
    "    plt.text(bar.get_x() + bar.get_width() / 2, height, f'{height:.2f}', ha='center', va='bottom')\n",
    "\n",
    "plt.tight_layout()\n",
    "plt.show()"
   ]
  },
  {
   "cell_type": "markdown",
   "id": "21d5d104",
   "metadata": {},
   "source": [
    "### Top 10 thương hiệu có Conversion Rate cao nhất"
   ]
  },
  {
   "cell_type": "code",
   "execution_count": 81,
   "id": "1c5026ff",
   "metadata": {},
   "outputs": [
    {
     "data": {
      "text/html": [
       "<div>\n",
       "<style scoped>\n",
       "    .dataframe tbody tr th:only-of-type {\n",
       "        vertical-align: middle;\n",
       "    }\n",
       "\n",
       "    .dataframe tbody tr th {\n",
       "        vertical-align: top;\n",
       "    }\n",
       "\n",
       "    .dataframe thead th {\n",
       "        text-align: right;\n",
       "    }\n",
       "</style>\n",
       "<table border=\"1\" class=\"dataframe\">\n",
       "  <thead>\n",
       "    <tr style=\"text-align: right;\">\n",
       "      <th>event_type</th>\n",
       "      <th>cart</th>\n",
       "      <th>purchase</th>\n",
       "      <th>view</th>\n",
       "      <th>conversion_rate</th>\n",
       "    </tr>\n",
       "    <tr>\n",
       "      <th>brand</th>\n",
       "      <th></th>\n",
       "      <th></th>\n",
       "      <th></th>\n",
       "      <th></th>\n",
       "    </tr>\n",
       "  </thead>\n",
       "  <tbody>\n",
       "    <tr>\n",
       "      <th>a-data</th>\n",
       "      <td>1</td>\n",
       "      <td>1</td>\n",
       "      <td>60</td>\n",
       "      <td>0.016667</td>\n",
       "    </tr>\n",
       "    <tr>\n",
       "      <th>accord</th>\n",
       "      <td>162</td>\n",
       "      <td>110</td>\n",
       "      <td>1427</td>\n",
       "      <td>0.077085</td>\n",
       "    </tr>\n",
       "    <tr>\n",
       "      <th>acecamp</th>\n",
       "      <td>3</td>\n",
       "      <td>2</td>\n",
       "      <td>38</td>\n",
       "      <td>0.052632</td>\n",
       "    </tr>\n",
       "    <tr>\n",
       "      <th>acer</th>\n",
       "      <td>35</td>\n",
       "      <td>27</td>\n",
       "      <td>766</td>\n",
       "      <td>0.035248</td>\n",
       "    </tr>\n",
       "    <tr>\n",
       "      <th>acmepower</th>\n",
       "      <td>6</td>\n",
       "      <td>8</td>\n",
       "      <td>110</td>\n",
       "      <td>0.072727</td>\n",
       "    </tr>\n",
       "    <tr>\n",
       "      <th>...</th>\n",
       "      <td>...</td>\n",
       "      <td>...</td>\n",
       "      <td>...</td>\n",
       "      <td>...</td>\n",
       "    </tr>\n",
       "    <tr>\n",
       "      <th>zhengte</th>\n",
       "      <td>0</td>\n",
       "      <td>0</td>\n",
       "      <td>106</td>\n",
       "      <td>0.000000</td>\n",
       "    </tr>\n",
       "    <tr>\n",
       "      <th>zhongdi</th>\n",
       "      <td>2</td>\n",
       "      <td>0</td>\n",
       "      <td>123</td>\n",
       "      <td>0.000000</td>\n",
       "    </tr>\n",
       "    <tr>\n",
       "      <th>zis</th>\n",
       "      <td>1</td>\n",
       "      <td>0</td>\n",
       "      <td>17</td>\n",
       "      <td>0.000000</td>\n",
       "    </tr>\n",
       "    <tr>\n",
       "      <th>zte</th>\n",
       "      <td>32</td>\n",
       "      <td>19</td>\n",
       "      <td>725</td>\n",
       "      <td>0.026207</td>\n",
       "    </tr>\n",
       "    <tr>\n",
       "      <th>zyxel</th>\n",
       "      <td>33</td>\n",
       "      <td>34</td>\n",
       "      <td>570</td>\n",
       "      <td>0.059649</td>\n",
       "    </tr>\n",
       "  </tbody>\n",
       "</table>\n",
       "<p>720 rows × 4 columns</p>\n",
       "</div>"
      ],
      "text/plain": [
       "event_type  cart  purchase  view  conversion_rate\n",
       "brand                                            \n",
       "a-data         1         1    60         0.016667\n",
       "accord       162       110  1427         0.077085\n",
       "acecamp        3         2    38         0.052632\n",
       "acer          35        27   766         0.035248\n",
       "acmepower      6         8   110         0.072727\n",
       "...          ...       ...   ...              ...\n",
       "zhengte        0         0   106         0.000000\n",
       "zhongdi        2         0   123         0.000000\n",
       "zis            1         0    17         0.000000\n",
       "zte           32        19   725         0.026207\n",
       "zyxel         33        34   570         0.059649\n",
       "\n",
       "[720 rows x 4 columns]"
      ]
     },
     "execution_count": 81,
     "metadata": {},
     "output_type": "execute_result"
    }
   ],
   "source": [
    "events_by_brand = data.groupby(['brand', 'event_type']).size().unstack(fill_value=0)\n",
    "events_by_brand = events_by_brand[events_by_brand['view'] > 14]\n",
    "events_by_brand['conversion_rate'] = events_by_brand['purchase'] / events_by_brand['view'].replace(0, pd.NA)\n",
    "events_by_brand"
   ]
  },
  {
   "cell_type": "code",
   "execution_count": 101,
   "id": "025f9f1a",
   "metadata": {},
   "outputs": [
    {
     "data": {
      "image/png": "[encoded data removed]",
      "text/plain": [
       "<Figure size 1600x600 with 2 Axes>"
      ]
     },
     "metadata": {},
     "output_type": "display_data"
    }
   ],
   "source": [
    "top_brands = events_by_brand.sort_values(by='conversion_rate', ascending=False).head(5)\n",
    "bottom_brands = events_by_brand.sort_values(by='conversion_rate', ascending=True).head(5)\n",
    "\n",
    "plt.figure(figsize=(16, 6))  \n",
    "\n",
    "# Plot 1: Top 5 brands\n",
    "plt.subplot(1, 2, 1)\n",
    "bars1 = plt.bar(top_brands.index, top_brands['conversion_rate'], color='#0e4f66')\n",
    "plt.title('Top 5 Brands by Conversion Rate')\n",
    "plt.xlabel('Brand')\n",
    "plt.ylabel('Conversion Rate')\n",
    "plt.xticks(rotation=45)\n",
    "plt.grid(axis='y', linestyle='--', alpha=0.7)\n",
    "for bar in bars1:\n",
    "    height = bar.get_height()\n",
    "    plt.text(bar.get_x() + bar.get_width() / 2, height, f'{height:.2f}', ha='center', va='bottom')\n",
    "\n",
    "# Plot 2: Bottom 5 brands\n",
    "plt.subplot(1, 2, 2)\n",
    "bars2 = plt.bar(bottom_brands.index, bottom_brands['conversion_rate'], color='#0e4f66')\n",
    "plt.title('Bottom 5 Brands by Conversion Rate')\n",
    "plt.xlabel('Brand')\n",
    "plt.ylabel('Conversion Rate')\n",
    "plt.xticks(rotation=45)\n",
    "plt.grid(axis='y', linestyle='--', alpha=0.7)\n",
    "for bar in bars2:\n",
    "    height = bar.get_height()\n",
    "    plt.text(bar.get_x() + bar.get_width() / 2, height, f'{height:.2f}', ha='center', va='bottom')\n",
    "\n",
    "plt.tight_layout()\n",
    "plt.show()"
   ]
  },
  {
   "cell_type": "markdown",
   "id": "b7f719a3",
   "metadata": {},
   "source": [
    "- Primpro có tỷ lệ chuyển đổi cao nhất, hơn 25%, cao hơn đáng kể so với các thương hiệu khác."
   ]
  },
  {
   "cell_type": "markdown",
   "id": "092369cd",
   "metadata": {},
   "source": [
    "### Phễu chuyển đổi View → Cart → Purchase"
   ]
  },
  {
   "cell_type": "code",
   "execution_count": 89,
   "id": "bafe2e42",
   "metadata": {},
   "outputs": [
    {
     "data": {
      "text/html": [
       "<div>\n",
       "<style scoped>\n",
       "    .dataframe tbody tr th:only-of-type {\n",
       "        vertical-align: middle;\n",
       "    }\n",
       "\n",
       "    .dataframe tbody tr th {\n",
       "        vertical-align: top;\n",
       "    }\n",
       "\n",
       "    .dataframe thead th {\n",
       "        text-align: right;\n",
       "    }\n",
       "</style>\n",
       "<table border=\"1\" class=\"dataframe\">\n",
       "  <thead>\n",
       "    <tr style=\"text-align: right;\">\n",
       "      <th>event_type</th>\n",
       "      <th>cart</th>\n",
       "      <th>purchase</th>\n",
       "      <th>view</th>\n",
       "    </tr>\n",
       "    <tr>\n",
       "      <th>user_session</th>\n",
       "      <th></th>\n",
       "      <th></th>\n",
       "      <th></th>\n",
       "    </tr>\n",
       "  </thead>\n",
       "  <tbody>\n",
       "    <tr>\n",
       "      <th>000AMhYaQu</th>\n",
       "      <td>0.0</td>\n",
       "      <td>0.0</td>\n",
       "      <td>1.0</td>\n",
       "    </tr>\n",
       "    <tr>\n",
       "      <th>000c34fa-991f-442a-8e07-8c472269bec6</th>\n",
       "      <td>0.0</td>\n",
       "      <td>0.0</td>\n",
       "      <td>1.0</td>\n",
       "    </tr>\n",
       "    <tr>\n",
       "      <th>001HttdHUk</th>\n",
       "      <td>0.0</td>\n",
       "      <td>0.0</td>\n",
       "      <td>1.0</td>\n",
       "    </tr>\n",
       "    <tr>\n",
       "      <th>001P7lK0Pt</th>\n",
       "      <td>0.0</td>\n",
       "      <td>0.0</td>\n",
       "      <td>2.0</td>\n",
       "    </tr>\n",
       "    <tr>\n",
       "      <th>001RxUtFJa</th>\n",
       "      <td>0.0</td>\n",
       "      <td>0.0</td>\n",
       "      <td>1.0</td>\n",
       "    </tr>\n",
       "    <tr>\n",
       "      <th>...</th>\n",
       "      <td>...</td>\n",
       "      <td>...</td>\n",
       "      <td>...</td>\n",
       "    </tr>\n",
       "    <tr>\n",
       "      <th>zzxngTdVaG</th>\n",
       "      <td>0.0</td>\n",
       "      <td>0.0</td>\n",
       "      <td>1.0</td>\n",
       "    </tr>\n",
       "    <tr>\n",
       "      <th>zzy0qXtxYX</th>\n",
       "      <td>0.0</td>\n",
       "      <td>0.0</td>\n",
       "      <td>1.0</td>\n",
       "    </tr>\n",
       "    <tr>\n",
       "      <th>zzy6W7KylP</th>\n",
       "      <td>0.0</td>\n",
       "      <td>0.0</td>\n",
       "      <td>1.0</td>\n",
       "    </tr>\n",
       "    <tr>\n",
       "      <th>zzzKOuAubK</th>\n",
       "      <td>0.0</td>\n",
       "      <td>0.0</td>\n",
       "      <td>2.0</td>\n",
       "    </tr>\n",
       "    <tr>\n",
       "      <th>zzzYMiLcf7</th>\n",
       "      <td>0.0</td>\n",
       "      <td>0.0</td>\n",
       "      <td>1.0</td>\n",
       "    </tr>\n",
       "  </tbody>\n",
       "</table>\n",
       "<p>490398 rows × 3 columns</p>\n",
       "</div>"
      ],
      "text/plain": [
       "event_type                            cart  purchase  view\n",
       "user_session                                              \n",
       "000AMhYaQu                             0.0       0.0   1.0\n",
       "000c34fa-991f-442a-8e07-8c472269bec6   0.0       0.0   1.0\n",
       "001HttdHUk                             0.0       0.0   1.0\n",
       "001P7lK0Pt                             0.0       0.0   2.0\n",
       "001RxUtFJa                             0.0       0.0   1.0\n",
       "...                                    ...       ...   ...\n",
       "zzxngTdVaG                             0.0       0.0   1.0\n",
       "zzy0qXtxYX                             0.0       0.0   1.0\n",
       "zzy6W7KylP                             0.0       0.0   1.0\n",
       "zzzKOuAubK                             0.0       0.0   2.0\n",
       "zzzYMiLcf7                             0.0       0.0   1.0\n",
       "\n",
       "[490398 rows x 3 columns]"
      ]
     },
     "execution_count": 89,
     "metadata": {},
     "output_type": "execute_result"
    }
   ],
   "source": [
    "funnel = data.pivot_table(\n",
    "    index='user_session',\n",
    "    columns='event_type',\n",
    "    values='product_id',\n",
    "    aggfunc='count'\n",
    ").fillna(0)\n",
    "\n",
    "funnel\n"
   ]
  },
  {
   "cell_type": "code",
   "execution_count": 90,
   "id": "70b20543",
   "metadata": {},
   "outputs": [
    {
     "name": "stdout",
     "output_type": "stream",
     "text": [
      "Tổng sessions có view: 488360\n",
      "Tổng sessions có cart: 41270 → 8.45% từ view\n",
      "Tổng sessions có purchase: 24344 → 58.99% từ cart\n"
     ]
    }
   ],
   "source": [
    "# Tổng số view, cart, purchase\n",
    "total_view = (funnel['view'] > 0).sum()\n",
    "total_cart = (funnel['cart'] > 0).sum() if 'cart' in funnel.columns else 0\n",
    "total_purchase = (funnel['purchase'] > 0).sum() if 'purchase' in funnel.columns else 0\n",
    "\n",
    "# Tính tỷ lệ\n",
    "cart_rate = total_cart / total_view * 100 if total_view > 0 else 0\n",
    "purchase_rate = total_purchase / total_cart * 100 if total_cart > 0 else 0\n",
    "\n",
    "print(f\"Tổng sessions có view: {total_view}\")\n",
    "print(f\"Tổng sessions có cart: {total_cart} → {cart_rate:.2f}% từ view\")\n",
    "print(f\"Tổng sessions có purchase: {total_purchase} → {purchase_rate:.2f}% từ cart\")"
   ]
  },
  {
   "cell_type": "code",
   "execution_count": 92,
   "id": "fb4b451c",
   "metadata": {},
   "outputs": [
    {
     "data": {
      "application/vnd.plotly.v1+json": {
       "config": {
        "plotlyServerURL": "https://plot.ly"
       },
       "data": [
        {
         "hovertemplate": "Total Sessions=%{x}<br>Event Stage=%{y}<extra></extra>",
         "legendgroup": "",
         "marker": {
          "color": "#636efa"
         },
         "name": "",
         "orientation": "h",
         "showlegend": false,
         "type": "funnel",
         "x": {
          "bdata": "qHMHADahAAAYXwAA",
          "dtype": "i4"
         },
         "xaxis": "x",
         "y": [
          "View",
          "Cart",
          "Purchase"
         ],
         "yaxis": "y"
        }
       ],
       "layout": {
        "annotations": [
         {
          "font": {
           "color": "black",
           "size": 12
          },
          "showarrow": false,
          "text": "100.00%",
          "x": 517661.6,
          "y": "View"
         },
         {
          "font": {
           "color": "black",
           "size": 12
          },
          "showarrow": false,
          "text": "8.45%",
          "x": 70571.6,
          "y": "Cart"
         },
         {
          "font": {
           "color": "black",
           "size": 12
          },
          "showarrow": false,
          "text": "58.99%",
          "x": 53645.6,
          "y": "Purchase"
         }
        ],
        "font": {
         "family": "Arial",
         "size": 12
        },
        "height": 600,
        "legend": {
         "tracegroupgap": 0
        },
        "template": {
         "data": {
          "bar": [
           {
            "error_x": {
             "color": "#2a3f5f"
            },
            "error_y": {
             "color": "#2a3f5f"
            },
            "marker": {
             "line": {
              "color": "#E5ECF6",
              "width": 0.5
             },
             "pattern": {
              "fillmode": "overlay",
              "size": 10,
              "solidity": 0.2
             }
            },
            "type": "bar"
           }
          ],
          "barpolar": [
           {
            "marker": {
             "line": {
              "color": "#E5ECF6",
              "width": 0.5
             },
             "pattern": {
              "fillmode": "overlay",
              "size": 10,
              "solidity": 0.2
             }
            },
            "type": "barpolar"
           }
          ],
          "carpet": [
           {
            "aaxis": {
             "endlinecolor": "#2a3f5f",
             "gridcolor": "white",
             "linecolor": "white",
             "minorgridcolor": "white",
             "startlinecolor": "#2a3f5f"
            },
            "baxis": {
             "endlinecolor": "#2a3f5f",
             "gridcolor": "white",
             "linecolor": "white",
             "minorgridcolor": "white",
             "startlinecolor": "#2a3f5f"
            },
            "type": "carpet"
           }
          ],
          "choropleth": [
           {
            "colorbar": {
             "outlinewidth": 0,
             "ticks": ""
            },
            "type": "choropleth"
           }
          ],
          "contour": [
           {
            "colorbar": {
             "outlinewidth": 0,
             "ticks": ""
            },
            "colorscale": [
             [
              0,
              "#0d0887"
             ],
             [
              0.1111111111111111,
              "#46039f"
             ],
             [
              0.2222222222222222,
              "#7201a8"
             ],
             [
              0.3333333333333333,
              "#9c179e"
             ],
             [
              0.4444444444444444,
              "#bd3786"
             ],
             [
              0.5555555555555556,
              "#d8576b"
             ],
             [
              0.6666666666666666,
              "#ed7953"
             ],
             [
              0.7777777777777778,
              "#fb9f3a"
             ],
             [
              0.8888888888888888,
              "#fdca26"
             ],
             [
              1,
              "#f0f921"
             ]
            ],
            "type": "contour"
           }
          ],
          "contourcarpet": [
           {
            "colorbar": {
             "outlinewidth": 0,
             "ticks": ""
            },
            "type": "contourcarpet"
           }
          ],
          "heatmap": [
           {
            "colorbar": {
             "outlinewidth": 0,
             "ticks": ""
            },
            "colorscale": [
             [
              0,
              "#0d0887"
             ],
             [
              0.1111111111111111,
              "#46039f"
             ],
             [
              0.2222222222222222,
              "#7201a8"
             ],
             [
              0.3333333333333333,
              "#9c179e"
             ],
             [
              0.4444444444444444,
              "#bd3786"
             ],
             [
              0.5555555555555556,
              "#d8576b"
             ],
             [
              0.6666666666666666,
              "#ed7953"
             ],
             [
              0.7777777777777778,
              "#fb9f3a"
             ],
             [
              0.8888888888888888,
              "#fdca26"
             ],
             [
              1,
              "#f0f921"
             ]
            ],
            "type": "heatmap"
           }
          ],
          "histogram": [
           {
            "marker": {
             "pattern": {
              "fillmode": "overlay",
              "size": 10,
              "solidity": 0.2
             }
            },
            "type": "histogram"
           }
          ],
          "histogram2d": [
           {
            "colorbar": {
             "outlinewidth": 0,
             "ticks": ""
            },
            "colorscale": [
             [
              0,
              "#0d0887"
             ],
             [
              0.1111111111111111,
              "#46039f"
             ],
             [
              0.2222222222222222,
              "#7201a8"
             ],
             [
              0.3333333333333333,
              "#9c179e"
             ],
             [
              0.4444444444444444,
              "#bd3786"
             ],
             [
              0.5555555555555556,
              "#d8576b"
             ],
             [
              0.6666666666666666,
              "#ed7953"
             ],
             [
              0.7777777777777778,
              "#fb9f3a"
             ],
             [
              0.8888888888888888,
              "#fdca26"
             ],
             [
              1,
              "#f0f921"
             ]
            ],
            "type": "histogram2d"
           }
          ],
          "histogram2dcontour": [
           {
            "colorbar": {
             "outlinewidth": 0,
             "ticks": ""
            },
            "colorscale": [
             [
              0,
              "#0d0887"
             ],
             [
              0.1111111111111111,
              "#46039f"
             ],
             [
              0.2222222222222222,
              "#7201a8"
             ],
             [
              0.3333333333333333,
              "#9c179e"
             ],
             [
              0.4444444444444444,
              "#bd3786"
             ],
             [
              0.5555555555555556,
              "#d8576b"
             ],
             [
              0.6666666666666666,
              "#ed7953"
             ],
             [
              0.7777777777777778,
              "#fb9f3a"
             ],
             [
              0.8888888888888888,
              "#fdca26"
             ],
             [
              1,
              "#f0f921"
             ]
            ],
            "type": "histogram2dcontour"
           }
          ],
          "mesh3d": [
           {
            "colorbar": {
             "outlinewidth": 0,
             "ticks": ""
            },
            "type": "mesh3d"
           }
          ],
          "parcoords": [
           {
            "line": {
             "colorbar": {
              "outlinewidth": 0,
              "ticks": ""
             }
            },
            "type": "parcoords"
           }
          ],
          "pie": [
           {
            "automargin": true,
            "type": "pie"
           }
          ],
          "scatter": [
           {
            "fillpattern": {
             "fillmode": "overlay",
             "size": 10,
             "solidity": 0.2
            },
            "type": "scatter"
           }
          ],
          "scatter3d": [
           {
            "line": {
             "colorbar": {
              "outlinewidth": 0,
              "ticks": ""
             }
            },
            "marker": {
             "colorbar": {
              "outlinewidth": 0,
              "ticks": ""
             }
            },
            "type": "scatter3d"
           }
          ],
          "scattercarpet": [
           {
            "marker": {
             "colorbar": {
              "outlinewidth": 0,
              "ticks": ""
             }
            },
            "type": "scattercarpet"
           }
          ],
          "scattergeo": [
           {
            "marker": {
             "colorbar": {
              "outlinewidth": 0,
              "ticks": ""
             }
            },
            "type": "scattergeo"
           }
          ],
          "scattergl": [
           {
            "marker": {
             "colorbar": {
              "outlinewidth": 0,
              "ticks": ""
             }
            },
            "type": "scattergl"
           }
          ],
          "scattermap": [
           {
            "marker": {
             "colorbar": {
              "outlinewidth": 0,
              "ticks": ""
             }
            },
            "type": "scattermap"
           }
          ],
          "scattermapbox": [
           {
            "marker": {
             "colorbar": {
              "outlinewidth": 0,
              "ticks": ""
             }
            },
            "type": "scattermapbox"
           }
          ],
          "scatterpolar": [
           {
            "marker": {
             "colorbar": {
              "outlinewidth": 0,
              "ticks": ""
             }
            },
            "type": "scatterpolar"
           }
          ],
          "scatterpolargl": [
           {
            "marker": {
             "colorbar": {
              "outlinewidth": 0,
              "ticks": ""
             }
            },
            "type": "scatterpolargl"
           }
          ],
          "scatterternary": [
           {
            "marker": {
             "colorbar": {
              "outlinewidth": 0,
              "ticks": ""
             }
            },
            "type": "scatterternary"
           }
          ],
          "surface": [
           {
            "colorbar": {
             "outlinewidth": 0,
             "ticks": ""
            },
            "colorscale": [
             [
              0,
              "#0d0887"
             ],
             [
              0.1111111111111111,
              "#46039f"
             ],
             [
              0.2222222222222222,
              "#7201a8"
             ],
             [
              0.3333333333333333,
              "#9c179e"
             ],
             [
              0.4444444444444444,
              "#bd3786"
             ],
             [
              0.5555555555555556,
              "#d8576b"
             ],
             [
              0.6666666666666666,
              "#ed7953"
             ],
             [
              0.7777777777777778,
              "#fb9f3a"
             ],
             [
              0.8888888888888888,
              "#fdca26"
             ],
             [
              1,
              "#f0f921"
             ]
            ],
            "type": "surface"
           }
          ],
          "table": [
           {
            "cells": {
             "fill": {
              "color": "#EBF0F8"
             },
             "line": {
              "color": "white"
             }
            },
            "header": {
             "fill": {
              "color": "#C8D4E3"
             },
             "line": {
              "color": "white"
             }
            },
            "type": "table"
           }
          ]
         },
         "layout": {
          "annotationdefaults": {
           "arrowcolor": "#2a3f5f",
           "arrowhead": 0,
           "arrowwidth": 1
          },
          "autotypenumbers": "strict",
          "coloraxis": {
           "colorbar": {
            "outlinewidth": 0,
            "ticks": ""
           }
          },
          "colorscale": {
           "diverging": [
            [
             0,
             "#8e0152"
            ],
            [
             0.1,
             "#c51b7d"
            ],
            [
             0.2,
             "#de77ae"
            ],
            [
             0.3,
             "#f1b6da"
            ],
            [
             0.4,
             "#fde0ef"
            ],
            [
             0.5,
             "#f7f7f7"
            ],
            [
             0.6,
             "#e6f5d0"
            ],
            [
             0.7,
             "#b8e186"
            ],
            [
             0.8,
             "#7fbc41"
            ],
            [
             0.9,
             "#4d9221"
            ],
            [
             1,
             "#276419"
            ]
           ],
           "sequential": [
            [
             0,
             "#0d0887"
            ],
            [
             0.1111111111111111,
             "#46039f"
            ],
            [
             0.2222222222222222,
             "#7201a8"
            ],
            [
             0.3333333333333333,
             "#9c179e"
            ],
            [
             0.4444444444444444,
             "#bd3786"
            ],
            [
             0.5555555555555556,
             "#d8576b"
            ],
            [
             0.6666666666666666,
             "#ed7953"
            ],
            [
             0.7777777777777778,
             "#fb9f3a"
            ],
            [
             0.8888888888888888,
             "#fdca26"
            ],
            [
             1,
             "#f0f921"
            ]
           ],
           "sequentialminus": [
            [
             0,
             "#0d0887"
            ],
            [
             0.1111111111111111,
             "#46039f"
            ],
            [
             0.2222222222222222,
             "#7201a8"
            ],
            [
             0.3333333333333333,
             "#9c179e"
            ],
            [
             0.4444444444444444,
             "#bd3786"
            ],
            [
             0.5555555555555556,
             "#d8576b"
            ],
            [
             0.6666666666666666,
             "#ed7953"
            ],
            [
             0.7777777777777778,
             "#fb9f3a"
            ],
            [
             0.8888888888888888,
             "#fdca26"
            ],
            [
             1,
             "#f0f921"
            ]
           ]
          },
          "colorway": [
           "#636efa",
           "#EF553B",
           "#00cc96",
           "#ab63fa",
           "#FFA15A",
           "#19d3f3",
           "#FF6692",
           "#B6E880",
           "#FF97FF",
           "#FECB52"
          ],
          "font": {
           "color": "#2a3f5f"
          },
          "geo": {
           "bgcolor": "white",
           "lakecolor": "white",
           "landcolor": "#E5ECF6",
           "showlakes": true,
           "showland": true,
           "subunitcolor": "white"
          },
          "hoverlabel": {
           "align": "left"
          },
          "hovermode": "closest",
          "mapbox": {
           "style": "light"
          },
          "paper_bgcolor": "white",
          "plot_bgcolor": "#E5ECF6",
          "polar": {
           "angularaxis": {
            "gridcolor": "white",
            "linecolor": "white",
            "ticks": ""
           },
           "bgcolor": "#E5ECF6",
           "radialaxis": {
            "gridcolor": "white",
            "linecolor": "white",
            "ticks": ""
           }
          },
          "scene": {
           "xaxis": {
            "backgroundcolor": "#E5ECF6",
            "gridcolor": "white",
            "gridwidth": 2,
            "linecolor": "white",
            "showbackground": true,
            "ticks": "",
            "zerolinecolor": "white"
           },
           "yaxis": {
            "backgroundcolor": "#E5ECF6",
            "gridcolor": "white",
            "gridwidth": 2,
            "linecolor": "white",
            "showbackground": true,
            "ticks": "",
            "zerolinecolor": "white"
           },
           "zaxis": {
            "backgroundcolor": "#E5ECF6",
            "gridcolor": "white",
            "gridwidth": 2,
            "linecolor": "white",
            "showbackground": true,
            "ticks": "",
            "zerolinecolor": "white"
           }
          },
          "shapedefaults": {
           "line": {
            "color": "#2a3f5f"
           }
          },
          "ternary": {
           "aaxis": {
            "gridcolor": "white",
            "linecolor": "white",
            "ticks": ""
           },
           "baxis": {
            "gridcolor": "white",
            "linecolor": "white",
            "ticks": ""
           },
           "bgcolor": "#E5ECF6",
           "caxis": {
            "gridcolor": "white",
            "linecolor": "white",
            "ticks": ""
           }
          },
          "title": {
           "x": 0.05
          },
          "xaxis": {
           "automargin": true,
           "gridcolor": "white",
           "linecolor": "white",
           "ticks": "",
           "title": {
            "standoff": 15
           },
           "zerolinecolor": "white",
           "zerolinewidth": 2
          },
          "yaxis": {
           "automargin": true,
           "gridcolor": "white",
           "linecolor": "white",
           "ticks": "",
           "title": {
            "standoff": 15
           },
           "zerolinecolor": "white",
           "zerolinewidth": 2
          }
         }
        },
        "title": {
         "text": "Funnel Analysis: View → Cart → Purchase",
         "x": 0.5
        },
        "width": 1300,
        "xaxis": {
         "anchor": "y",
         "domain": [
          0,
          1
         ],
         "title": {
          "text": "Total Sessions"
         }
        },
        "yaxis": {
         "anchor": "x",
         "domain": [
          0,
          1
         ],
         "title": {
          "text": "Event Stage"
         }
        }
       }
      }
     },
     "metadata": {},
     "output_type": "display_data"
    }
   ],
   "source": [
    "import plotly.express as px\n",
    "\n",
    "funnel_data = {\n",
    "    'Stage': ['View', 'Cart', 'Purchase'],\n",
    "    'Sessions': [total_view, total_cart, total_purchase],\n",
    "    'Conversion Rate': [100, cart_rate, purchase_rate]\n",
    "}\n",
    "\n",
    "import pandas as pd\n",
    "funnel_df = pd.DataFrame(funnel_data)\n",
    "\n",
    "fig = px.funnel(funnel_df, x='Sessions', y='Stage', \n",
    "                title='Funnel Analysis: View → Cart → Purchase',\n",
    "                labels={'Sessions': 'Total Sessions', 'Stage': 'Event Stage'})\n",
    "\n",
    "max_x = max(funnel_df['Sessions'])\n",
    "\n",
    "for i, row in funnel_df.iterrows():\n",
    "    fig.add_annotation(\n",
    "        x=row['Sessions'] + max_x * 0.06, \n",
    "        y=row['Stage'],\n",
    "        text=f'{row[\"Conversion Rate\"]:.2f}%', \n",
    "        showarrow=False,\n",
    "        font=dict(size=12, color='black')\n",
    "    )\n",
    "\n",
    "fig.update_layout(\n",
    "    title=\"Funnel Analysis: View → Cart → Purchase\",\n",
    "    title_x=0.5,\n",
    "    font=dict(size=12, family='Arial'),\n",
    "    width=1300,   \n",
    "    height=600    \n",
    ")\n",
    "\n",
    "fig.show()"
   ]
  },
  {
   "cell_type": "markdown",
   "id": "97db944d",
   "metadata": {},
   "source": [
    "Tỷ lệ chuyển đổi từ View → Cart `rất thấp` (8.45%)\n",
    "→ Có tới hơn `91%` người xem sản phẩm nhưng `không thêm vào giỏ hàng`, điều này gợi ý:\n",
    "- Nội dung sản phẩm, hình ảnh hoặc mô tả chưa đủ hấp dẫn.\n",
    "- Giá hoặc thông tin sản phẩm chưa phù hợp.\n",
    "- Trải nghiệm người dùng (UX) khi thêm vào giỏ còn rườm rà.\n",
    "\n",
    "Tỷ lệ chuyển đổi từ Cart → Purchase lại `khá cao` (58.99%)\n",
    "→ Một khi người dùng đã thêm vào giỏ, khả năng họ mua rất lớn, cho thấy:\n",
    "- Quy trình thanh toán đang hoạt động hiệu quả.\n",
    "- Người dùng thực sự có ý định mua khi đã vào bước giỏ hàng.\n",
    "\n",
    "Điểm nghẽn chính nằm ở bước `View → Cart`\n",
    "=> Đây là khâu then chốt cần cải thiện nếu muốn tăng doanh thu: có thể đưa ra chiến lược đổi mới hình ảnh sản phẩm, tăng CTA rõ ràng, gợi ý combo, giảm giá, review khách hàng..."
   ]
  },
  {
   "cell_type": "markdown",
   "id": "eb166c57",
   "metadata": {},
   "source": [
    "### Sản phẩm đắt tiền có chuyển đổi thấp hơn?"
   ]
  },
  {
   "cell_type": "code",
   "execution_count": 93,
   "id": "861ed45c",
   "metadata": {},
   "outputs": [
    {
     "name": "stderr",
     "output_type": "stream",
     "text": [
      "C:\\Users\\ntnh\\AppData\\Local\\Temp\\ipykernel_17364\\4246594465.py:5: RuntimeWarning:\n",
      "\n",
      "divide by zero encountered in scalar divide\n",
      "\n",
      "C:\\Users\\ntnh\\AppData\\Local\\Temp\\ipykernel_17364\\4246594465.py:7: DeprecationWarning:\n",
      "\n",
      "DataFrameGroupBy.apply operated on the grouping columns. This behavior is deprecated, and in a future version of pandas the grouping columns will be excluded from the operation. Either pass `include_groups=False` to exclude the groupings or explicitly select the grouping columns after groupby to silence this warning.\n",
      "\n"
     ]
    },
    {
     "data": {
      "image/png": "[encoded data removed]",
      "text/plain": [
       "<Figure size 1000x600 with 1 Axes>"
      ]
     },
     "metadata": {},
     "output_type": "display_data"
    }
   ],
   "source": [
    "import matplotlib.pyplot as plt\n",
    "\n",
    "# Tính conversion rate theo sản phẩm\n",
    "def calc_conversion(df):\n",
    "    return (df['event_type'] == 'purchase').sum() / (df['event_type'] == 'view').sum()\n",
    "\n",
    "product_cr = data.groupby('product_id').apply(calc_conversion).reset_index(name='conversion_rate')\n",
    "\n",
    "product_price = data.groupby('product_id')['price'].mean().reset_index()\n",
    "product_stats = pd.merge(product_cr, product_price, on='product_id')\n",
    "\n",
    "# Vẽ biểu đồ scatter\n",
    "plt.figure(figsize=(10, 6))\n",
    "plt.scatter(product_stats['price'], product_stats['conversion_rate'], alpha=0.4)\n",
    "plt.xlabel('Giá trung bình sản phẩm')\n",
    "plt.ylabel('Tỷ lệ chuyển đổi')\n",
    "plt.title('Scatter Plot: Giá vs. Conversion Rate')\n",
    "plt.grid(True)\n",
    "\n",
    "plt.show()"
   ]
  },
  {
   "cell_type": "markdown",
   "id": "21911d23",
   "metadata": {},
   "source": [
    "Chúng ta thấy mối quan hệ nghịch đảo rõ ràng:\n",
    "\n",
    "- Khi `giá trung bình` sản phẩm tăng, `tỷ lệ chuyển đổi` (conversion rate) giảm rõ rệt.\n",
    "\n",
    "- Đa số các sản phẩm có giá trung bình dưới 1.000 đạt tỷ lệ chuyển đổi cao hơn.\n",
    "\n",
    "Cụm dữ liệu dày đặc ở giá thấp:\n",
    "\n",
    "- Phần lớn sản phẩm tập trung trong khoảng giá từ 0 đến 2.000, cho thấy người dùng có xu hướng tương tác nhiều hơn với `các sản phẩm giá rẻ`.\n",
    "\n",
    "Tỷ lệ chuyển đổi gần như bằng 0 ở mức giá cao:\n",
    "\n",
    "- Các sản phẩm có `giá >10.000` gần như `không có` chuyển đổi (conversion rate ≈ 0), chứng tỏ rào cản giá cao `ảnh hưởng lớn` đến `hành vi mua hàng`.\n",
    "\n",
    "Một số ngoại lệ:\n",
    "\n",
    "- Có vài điểm lẻ với `tỷ lệ chuyển đổi cao` ở `giá thấp` có thể là những sản phẩm hot, sale mạnh, hoặc thương hiệu mạnh."
   ]
  }
 ],
 "metadata": {
  "kernelspec": {
   "display_name": "Python 3",
   "language": "python",
   "name": "python3"
  },
  "language_info": {
   "codemirror_mode": {
    "name": "ipython",
    "version": 3
   },
   "file_extension": ".py",
   "mimetype": "text/x-python",
   "name": "python",
   "nbconvert_exporter": "python",
   "pygments_lexer": "ipython3",
   "version": "3.11.3"
  }
 },
 "nbformat": 4,
 "nbformat_minor": 5
}
